{
 "cells": [
  {
   "cell_type": "code",
   "execution_count": 1,
   "id": "1c672946-9064-41ba-afe8-af9d3706620a",
   "metadata": {},
   "outputs": [
    {
     "name": "stderr",
     "output_type": "stream",
     "text": [
      "2021-12-13 18:06:49.731385: I tensorflow/stream_executor/platform/default/dso_loader.cc:48] Successfully opened dynamic library libcudart.so.10.1\n"
     ]
    }
   ],
   "source": [
    "# import the necessary packages\n",
    "from tensorflow.keras.preprocessing.image import ImageDataGenerator\n",
    "from tensorflow.keras.applications import MobileNetV2\n",
    "from tensorflow.keras.layers import AveragePooling2D, Dropout, Flatten, Dense, Input\n",
    "from tensorflow.keras.applications.mobilenet_v2 import preprocess_input\n",
    "from tensorflow.keras.preprocessing.image import img_to_array, load_img\n",
    "from tensorflow.keras.utils import to_categorical\n",
    "from tensorflow.keras.models import Model\n",
    "from tensorflow.keras.optimizers import Adam\n",
    "from sklearn.preprocessing import LabelBinarizer\n",
    "from sklearn.model_selection import train_test_split\n",
    "from sklearn.metrics import classification_report\n",
    "# from imutils import paths\n",
    "import matplotlib.pyplot as plt\n",
    "%matplotlib inline\n",
    "from tqdm import tqdm\n",
    "import numpy as np\n",
    "import argparse\n",
    "import tensorflow as tf\n",
    "import os\n",
    "from tensorflow.keras.callbacks import ModelCheckpoint\n",
    "from glob import glob\n",
    "from tqdm import tqdm\n",
    "from sklearn.model_selection import train_test_split\n",
    "from sklearn.preprocessing import OneHotEncoder\n",
    "from scipy import ndimage\n",
    "import imageio"
   ]
  },
  {
   "cell_type": "markdown",
   "id": "9470e7b8-4112-4348-beac-dd52435e9f0c",
   "metadata": {},
   "source": [
    "# 이미지 전처리"
   ]
  },
  {
   "cell_type": "code",
   "execution_count": null,
   "id": "2c43545a-3030-4719-8a38-6ed12fee9199",
   "metadata": {},
   "outputs": [],
   "source": [
    "# train_path\n",
    "train_yes_path = '/root/data/cut_data/clean/yes/*.jpg'\n",
    "train_no_path = '/root/data/cut_data/clean/no/*.jpg'\n",
    "\n",
    "# # test_path\n",
    "# test_yes_path = '/root/data/cut_data/test/yes/*.jpg'\n",
    "# test_no_path = '/root/data/cut_data/test/no/*.jpg'\n",
    "\n",
    "# # val_path\n",
    "# val_yes_path ='/root/data/cut_data/validation/yes/*.jpg'\n",
    "# val_no_path ='/root/data/cut_data/validation/no/*.jpg'"
   ]
  },
  {
   "cell_type": "code",
   "execution_count": null,
   "id": "283b32d7-42cd-431a-a72c-3bfd746c97d4",
   "metadata": {},
   "outputs": [],
   "source": [
    "# 이미지 불러오기\n",
    "# trian\n",
    "train_yes = glob(train_yes_path)\n",
    "train_no = glob(train_no_path)\n",
    "\n",
    "# # test\n",
    "# test_yes = glob(test_yes_path)\n",
    "# test_no = glob(test_no_path)\n",
    "\n",
    "# # validation\n",
    "# val_yes = glob(val_yes_path)\n",
    "# val_no = glob(val_no_path)\n",
    "\n",
    "# 출력\n",
    "print(\"train_yes=\", len(train_yes))\n",
    "print(\"train_no=\", len(train_no))\n",
    "# print(\"=\"*10)\n",
    "# print(\"test_yes=\", len(test_yes))\n",
    "# print(\"test_no=\", len(test_no))\n",
    "# print(\"=\"*10)\n",
    "# print(\"validation_yes=\", len(val_yes))\n",
    "# print(\"validation_no=\", len(val_no))"
   ]
  },
  {
   "cell_type": "markdown",
   "id": "c0145ca5-6d12-4390-a03f-b0251ffcd16d",
   "metadata": {},
   "source": [
    "## 이미지 증강"
   ]
  },
  {
   "cell_type": "code",
   "execution_count": null,
   "id": "edb49d4f-0086-42a9-8d41-ff9a995d57b1",
   "metadata": {},
   "outputs": [],
   "source": [
    "!pip install --no-dependencies imgaug"
   ]
  },
  {
   "cell_type": "code",
   "execution_count": null,
   "id": "85187674-4227-43e0-a754-8b6d63809d39",
   "metadata": {},
   "outputs": [],
   "source": [
    "yes_img = glob('/root/data/cut_data/clean/yes/*.jpg')"
   ]
  },
  {
   "cell_type": "code",
   "execution_count": null,
   "id": "0a94803e-aa62-414b-a9ca-dc7ff431b99c",
   "metadata": {},
   "outputs": [],
   "source": [
    "save_yes_folder = '/root/data/cut_data/yes_clean_aug/'"
   ]
  },
  {
   "cell_type": "code",
   "execution_count": null,
   "id": "0e1d0bff-d2d2-4cba-9b88-33fa8a54c341",
   "metadata": {},
   "outputs": [],
   "source": [
    "no_img = glob('/root/data/cut_data/clean/no/*.jpg')"
   ]
  },
  {
   "cell_type": "code",
   "execution_count": null,
   "id": "fcb6feb6-344d-4c3a-995e-e6e331ff2a5d",
   "metadata": {},
   "outputs": [],
   "source": [
    "save_no_folder = '/root/data/cut_data/no_clean_aug/'"
   ]
  },
  {
   "cell_type": "code",
   "execution_count": 2,
   "id": "a3f0dacd-024c-4861-9eb0-4899c840b110",
   "metadata": {},
   "outputs": [],
   "source": [
    "TRAIN_DIR = '/root/data/cut_data/clean/'"
   ]
  },
  {
   "cell_type": "code",
   "execution_count": 3,
   "id": "161922ec-cfc3-423e-8bc6-e7ad80d55de7",
   "metadata": {},
   "outputs": [],
   "source": [
    "IM_HEIGHT, IM_WIDTH = 128, 128"
   ]
  },
  {
   "cell_type": "code",
   "execution_count": 4,
   "id": "c0e78419-5fc9-4095-b258-3988a560b4fb",
   "metadata": {},
   "outputs": [],
   "source": [
    "# 이미지를 증강하는 ImageGenerator 객체 생성\n",
    "train_datagen = ImageDataGenerator(\n",
    "    rescale = 1/255,\n",
    "\trotation_range=30, # 이미지 회전 각도\n",
    "    width_shift_range = 0.5,\n",
    "    height_shift_range = 0.5,\n",
    "\tzoom_range=0.15, # 이미지 확대 비율\n",
    "\tshear_range=0.15, # 이미지 기울기 비율\n",
    "\thorizontal_flip=True,# 이미지 좌우 반전\n",
    "\tfill_mode=\"nearest\" # 이미지를 회전 이동시 빈공간을 채우는 방식\n",
    "\t)"
   ]
  },
  {
   "cell_type": "code",
   "execution_count": 5,
   "id": "e6b967ba-b381-45fe-9f1b-159a24ea2896",
   "metadata": {},
   "outputs": [
    {
     "name": "stdout",
     "output_type": "stream",
     "text": [
      "Found 36885 images belonging to 2 classes.\n"
     ]
    }
   ],
   "source": [
    "train_generator = train_datagen.flow_from_directory(\n",
    "                        TRAIN_DIR,\n",
    "                        target_size=(IM_HEIGHT, IM_WIDTH),\n",
    "                        batch_size=16,\n",
    "                        class_mode=\"binary\",\n",
    "                        shuffle=True\n",
    "                    )"
   ]
  },
  {
   "cell_type": "code",
   "execution_count": null,
   "id": "26883117-08b5-4341-b279-00688e763527",
   "metadata": {},
   "outputs": [],
   "source": [
    "img,label = train_generator.next()"
   ]
  },
  {
   "cell_type": "code",
   "execution_count": null,
   "id": "3c5c41be-4f60-4320-8ef7-09247d51f44c",
   "metadata": {
    "tags": []
   },
   "outputs": [],
   "source": []
  },
  {
   "cell_type": "code",
   "execution_count": null,
   "id": "b44d0f3a-43f2-4972-9cec-88ac6638cf23",
   "metadata": {
    "jupyter": {
     "source_hidden": true
    },
    "tags": []
   },
   "outputs": [],
   "source": [
    "# !pip install imageio\n",
    "# import imageio\n",
    "# for i in tqdm(range(len(yes_img))):\n",
    "#     image_path = yes_img[i]\n",
    "#     image = np.expand_dims(imageio.imread(image_path), 0)\n",
    "\n",
    "#     #원본 이미지를 맞춥니다.\n",
    "#     datagen.fit(image)\n",
    "  \n",
    "#     #이미지를 반복하고 \"save_to_dir\" 매개변수를 사용하여 저장\n",
    "#     for x, val in zip(datagen.flow(image,                    #image we chose\n",
    "#                               save_to_dir=save_yes_folder,     #this is where we figure out where to save\n",
    "#                               save_prefix='aug',        # it will save the images as 'aug_0912' some number for every new augmented image\n",
    "#                               save_format='jpg'),range(10)) :\n",
    "#         pass     # here we define a range because we want 10 augmented images otherwise it will keep looping forever I think\n",
    "\n",
    "    \n",
    "# for i in tqdm(range(len(no_img))):\n",
    "#     image_path = no_img[i]\n",
    "#     image = np.expand_dims(imageio.imread(image_path), 0)\n",
    "\n",
    "#     #원본 이미지를 맞춥니다.\n",
    "#     datagen.fit(image)\n",
    "  \n",
    "#     #이미지를 반복하고 \"save_to_dir\" 매개변수를 사용하여 저장\n",
    "#     for x, val in zip(datagen.flow(image,                    #image we chose\n",
    "#                               save_to_dir=save_no_folder,     #this is where we figure out where to save\n",
    "#                               save_prefix='aug',        # it will save the images as 'aug_0912' some number for every new augmented image\n",
    "#                               save_format='jpg'),range(10)) :\n",
    "#         pass     # here we define a range because we want 10 augmented images otherwise it will keep looping forever I think\n"
   ]
  },
  {
   "cell_type": "markdown",
   "id": "0c2d1ac1-33c1-4584-b1c6-fb84a3f241fa",
   "metadata": {},
   "source": [
    "## 이미지 갯수 비율 맞추기"
   ]
  },
  {
   "cell_type": "code",
   "execution_count": null,
   "id": "284a568b-912b-4128-9d65-dd7997356e88",
   "metadata": {
    "tags": []
   },
   "outputs": [],
   "source": [
    "# 이미지 개수 비율 맞추기\n",
    "def image_ratio(yes, no):\n",
    "    min_num = min(len(yes),len(no))\n",
    "    return yes[0:min_num], no[0:min_num]"
   ]
  },
  {
   "cell_type": "code",
   "execution_count": null,
   "id": "8e3ce1ec-83da-4992-94ec-eb3b6e87f6a0",
   "metadata": {
    "jupyter": {
     "source_hidden": true
    },
    "tags": []
   },
   "outputs": [],
   "source": [
    "train_yes = glob('/root/data/cut_data/yes_clean_aug/*.jpg')"
   ]
  },
  {
   "cell_type": "code",
   "execution_count": null,
   "id": "48d82637-a640-472e-89ce-4245efd11d48",
   "metadata": {
    "tags": []
   },
   "outputs": [],
   "source": [
    "# 함수 실행\n",
    "train_yes , train_no = image_ratio(train_yes, train_no)\n",
    "# test_yes , test_no = image_ratio(test_yes, test_no)\n",
    "# val_yes , val_no = image_ratio(val_yes, val_no)\n",
    "\n",
    "# 출력\n",
    "print(\"train_yes=\", len(train_yes))\n",
    "print(\"train_no=\", len(train_no))\n",
    "# print(\"=\"*10)\n",
    "# print(\"test_yes=\", len(test_yes))\n",
    "# print(\"test_no=\", len(test_no))\n",
    "# print(\"=\"*10)\n",
    "# print(\"validation_yes=\", len(val_yes))\n",
    "# print(\"validation_no=\", len(val_no))"
   ]
  },
  {
   "cell_type": "markdown",
   "id": "e213ae9c-fba6-4698-aa41-cfa8c94a44ae",
   "metadata": {},
   "source": [
    "## img_to_array"
   ]
  },
  {
   "cell_type": "code",
   "execution_count": null,
   "id": "3ad91861-89ed-411f-8aa8-7e4070adc1c3",
   "metadata": {},
   "outputs": [],
   "source": [
    "data_list = []\n",
    "label_list = []\n",
    "\n",
    "# image 변환 및 라벨 생성\n",
    "def image_preprocessing(path, data_list, label_list, label_num):\n",
    "    label = label_list\n",
    "    data = data_list\n",
    "    for i in tqdm(path):\n",
    "        try:\n",
    "            image=tf.keras.preprocessing.image.load_img(i, color_mode='rgb', \n",
    "            target_size= (128,128)\n",
    "                                                 )\n",
    "            image = np.array(image)\n",
    "            data.append(image)\n",
    "            label.append(label_num)\n",
    "        except:\n",
    "            print(i)\n",
    "\n",
    "    return  data, label"
   ]
  },
  {
   "cell_type": "code",
   "execution_count": null,
   "id": "22e320bc-ad6f-43a0-926a-7cbf0699652a",
   "metadata": {
    "tags": []
   },
   "outputs": [],
   "source": [
    "data, label = image_preprocessing(train_yes, data_list, label_list, 1)\n",
    "# data, label = image_preprocessing(test_yes, data, label, 1)\n",
    "data, label = image_preprocessing(train_no, data, label, 0)\n",
    "# data, label = image_preprocessing(test_no, data, label, 0)\n",
    "\n",
    "data = np.array(data, dtype=np.float32)/255\n",
    "label = np.array(label)"
   ]
  },
  {
   "cell_type": "code",
   "execution_count": null,
   "id": "b460e478-d094-4ab4-906a-69d2f22a8ac0",
   "metadata": {},
   "outputs": [],
   "source": [
    "data.shape"
   ]
  },
  {
   "cell_type": "code",
   "execution_count": null,
   "id": "0fc8b985-14a7-469e-a913-744144f8e432",
   "metadata": {},
   "outputs": [],
   "source": [
    "# validation set\n",
    "X_val, y_val = image_preprocessing(val_yes, data_list, label_list, 1)\n",
    "X_val, y_val = image_preprocessing(val_no, X_val, y_val, 0)\n",
    "\n",
    "X_val = np.array(X_val, dtype=np.float32)/255\n",
    "y_val = np.array(y_val)\n",
    "y_val = to_categorical(y_val)"
   ]
  },
  {
   "cell_type": "code",
   "execution_count": null,
   "id": "8c360ef6-f357-46b4-9dd2-a01cb7adb3c3",
   "metadata": {},
   "outputs": [],
   "source": [
    "label_list[0]"
   ]
  },
  {
   "cell_type": "code",
   "execution_count": null,
   "id": "d0418e48-2b11-4a8e-91fa-581f9dd909c1",
   "metadata": {},
   "outputs": [],
   "source": [
    "label[0]"
   ]
  },
  {
   "cell_type": "code",
   "execution_count": null,
   "id": "8a789402-efc7-405c-afb6-609e3cdbaa45",
   "metadata": {},
   "outputs": [],
   "source": [
    "label[0]"
   ]
  },
  {
   "cell_type": "code",
   "execution_count": null,
   "id": "8bedf394-852a-479d-b6dc-4f17fbe41b1c",
   "metadata": {},
   "outputs": [],
   "source": [
    "print(X_val.shape)\n",
    "print(y_val.shape)"
   ]
  },
  {
   "cell_type": "code",
   "execution_count": null,
   "id": "c044736a-f962-4721-9d31-b9556e5dfe20",
   "metadata": {},
   "outputs": [],
   "source": [
    "np.save('/root/data/cut_data/clean_X_data.npy', data) # x_save.npy\n",
    "np.save('/root/data/cut_data/clean_X_label.npy', label) # x_save.npy\n",
    "# np.save('/root/data/jun/jun_label_val_x.npy', X_val)\n",
    "# np.save('/root/data/jun/jun_label_val_y.npy', y_val)"
   ]
  },
  {
   "cell_type": "markdown",
   "id": "cb6187de-7ad0-4c63-b6ce-2a472f37568b",
   "metadata": {},
   "source": [
    "# 데이터 로드 -> 학습"
   ]
  },
  {
   "cell_type": "code",
   "execution_count": null,
   "id": "7adef004-bf17-43b4-82cd-18070e2c29ea",
   "metadata": {},
   "outputs": [],
   "source": [
    "data = np.load('/root/data/cut_data/clean_X_data.npy')\n",
    "label = np.load('/root/data/cut_data/clean_X_label.npy')\n",
    "# X_val = np.load('/root/data/jun/jun_label_val_x.npy')\n",
    "# y_val = np.load('/root/data/jun/jun_label_val_y.npy')"
   ]
  },
  {
   "cell_type": "code",
   "execution_count": null,
   "id": "2b5f52f7-b2fc-49a7-a19f-dc53b451d534",
   "metadata": {},
   "outputs": [],
   "source": [
    "# 인코딩\n",
    "label = to_categorical(label)\n",
    "print(label.shape)"
   ]
  },
  {
   "cell_type": "code",
   "execution_count": null,
   "id": "15ace8d8-d0c3-4b60-ad91-93bb26221013",
   "metadata": {},
   "outputs": [],
   "source": [
    "# train_test_split\n",
    "X_train, X_val, y_train, y_val = train_test_split(data, label, test_size=0.2, random_state=42)"
   ]
  },
  {
   "cell_type": "code",
   "execution_count": null,
   "id": "379b708d-5784-4697-8b2d-285e0d3f5480",
   "metadata": {},
   "outputs": [],
   "source": [
    "print(\"X_train.shape =\",X_train.shape)\n",
    "print(\"X_test.shape =\",X_val.shape)\n",
    "print(\"y_train.shape =\",y_train.shape)\n",
    "print(\"y_train.shape =\",y_val.shape)"
   ]
  },
  {
   "cell_type": "code",
   "execution_count": null,
   "id": "442f01fe-aa8e-4e37-a63e-a9cbd03b76e8",
   "metadata": {},
   "outputs": [],
   "source": [
    "# import gc\n",
    "# tf.keras.backend.clear_session()\n",
    "# gc.collect()"
   ]
  },
  {
   "cell_type": "markdown",
   "id": "d5feadd6-d3ec-40c8-9095-5ab80cfe93f5",
   "metadata": {},
   "source": [
    "## 모델 로드 ,컴파일, 학습"
   ]
  },
  {
   "cell_type": "code",
   "execution_count": 6,
   "id": "4bdcc49b-4f16-4b23-b24d-837a705246ec",
   "metadata": {
    "tags": []
   },
   "outputs": [
    {
     "name": "stdout",
     "output_type": "stream",
     "text": [
      "INFO:tensorflow:Using MirroredStrategy with devices ('/job:localhost/replica:0/task:0/device:GPU:0', '/job:localhost/replica:0/task:0/device:GPU:1')\n",
      "INFO:tensorflow:Reduce to /job:localhost/replica:0/task:0/device:CPU:0 then broadcast to ('/job:localhost/replica:0/task:0/device:CPU:0',).\n",
      "INFO:tensorflow:Reduce to /job:localhost/replica:0/task:0/device:CPU:0 then broadcast to ('/job:localhost/replica:0/task:0/device:CPU:0',).\n",
      "INFO:tensorflow:Reduce to /job:localhost/replica:0/task:0/device:CPU:0 then broadcast to ('/job:localhost/replica:0/task:0/device:CPU:0',).\n",
      "INFO:tensorflow:Reduce to /job:localhost/replica:0/task:0/device:CPU:0 then broadcast to ('/job:localhost/replica:0/task:0/device:CPU:0',).\n"
     ]
    },
    {
     "name": "stderr",
     "output_type": "stream",
     "text": [
      "2021-12-13 18:07:15.411280: I tensorflow/stream_executor/platform/default/dso_loader.cc:48] Successfully opened dynamic library libcuda.so.1\n",
      "2021-12-13 18:07:15.488079: I tensorflow/stream_executor/cuda/cuda_gpu_executor.cc:982] successful NUMA node read from SysFS had negative value (-1), but there must be at least one NUMA node, so returning NUMA node zero\n",
      "2021-12-13 18:07:15.488969: I tensorflow/core/common_runtime/gpu/gpu_device.cc:1716] Found device 0 with properties: \n",
      "pciBusID: 0000:0a:00.0 name: NVIDIA GeForce GTX 1080 computeCapability: 6.1\n",
      "coreClock: 1.759GHz coreCount: 20 deviceMemorySize: 7.93GiB deviceMemoryBandwidth: 298.32GiB/s\n",
      "2021-12-13 18:07:15.489050: I tensorflow/stream_executor/cuda/cuda_gpu_executor.cc:982] successful NUMA node read from SysFS had negative value (-1), but there must be at least one NUMA node, so returning NUMA node zero\n",
      "2021-12-13 18:07:15.489900: I tensorflow/core/common_runtime/gpu/gpu_device.cc:1716] Found device 1 with properties: \n",
      "pciBusID: 0000:0b:00.0 name: NVIDIA GeForce GTX 1080 computeCapability: 6.1\n",
      "coreClock: 1.759GHz coreCount: 20 deviceMemorySize: 7.93GiB deviceMemoryBandwidth: 298.32GiB/s\n",
      "2021-12-13 18:07:15.489919: I tensorflow/stream_executor/platform/default/dso_loader.cc:48] Successfully opened dynamic library libcudart.so.10.1\n",
      "2021-12-13 18:07:15.491562: I tensorflow/stream_executor/platform/default/dso_loader.cc:48] Successfully opened dynamic library libcublas.so.10\n",
      "2021-12-13 18:07:15.493055: I tensorflow/stream_executor/platform/default/dso_loader.cc:48] Successfully opened dynamic library libcufft.so.10\n",
      "2021-12-13 18:07:15.493297: I tensorflow/stream_executor/platform/default/dso_loader.cc:48] Successfully opened dynamic library libcurand.so.10\n",
      "2021-12-13 18:07:15.494962: I tensorflow/stream_executor/platform/default/dso_loader.cc:48] Successfully opened dynamic library libcusolver.so.10\n",
      "2021-12-13 18:07:15.495646: I tensorflow/stream_executor/platform/default/dso_loader.cc:48] Successfully opened dynamic library libcusparse.so.10\n",
      "2021-12-13 18:07:15.498284: I tensorflow/stream_executor/platform/default/dso_loader.cc:48] Successfully opened dynamic library libcudnn.so.7\n",
      "2021-12-13 18:07:15.498436: I tensorflow/stream_executor/cuda/cuda_gpu_executor.cc:982] successful NUMA node read from SysFS had negative value (-1), but there must be at least one NUMA node, so returning NUMA node zero\n",
      "2021-12-13 18:07:15.499209: I tensorflow/stream_executor/cuda/cuda_gpu_executor.cc:982] successful NUMA node read from SysFS had negative value (-1), but there must be at least one NUMA node, so returning NUMA node zero\n",
      "2021-12-13 18:07:15.499932: I tensorflow/stream_executor/cuda/cuda_gpu_executor.cc:982] successful NUMA node read from SysFS had negative value (-1), but there must be at least one NUMA node, so returning NUMA node zero\n",
      "2021-12-13 18:07:15.500647: I tensorflow/stream_executor/cuda/cuda_gpu_executor.cc:982] successful NUMA node read from SysFS had negative value (-1), but there must be at least one NUMA node, so returning NUMA node zero\n",
      "2021-12-13 18:07:15.501317: I tensorflow/core/common_runtime/gpu/gpu_device.cc:1858] Adding visible gpu devices: 0, 1\n",
      "2021-12-13 18:07:15.501721: I tensorflow/core/platform/cpu_feature_guard.cc:142] This TensorFlow binary is optimized with oneAPI Deep Neural Network Library (oneDNN)to use the following CPU instructions in performance-critical operations:  AVX2 FMA\n",
      "To enable them in other operations, rebuild TensorFlow with the appropriate compiler flags.\n",
      "2021-12-13 18:07:15.526309: I tensorflow/core/platform/profile_utils/cpu_utils.cc:104] CPU Frequency: 3199630000 Hz\n",
      "2021-12-13 18:07:15.527081: I tensorflow/compiler/xla/service/service.cc:168] XLA service 0x557dca9b9450 initialized for platform Host (this does not guarantee that XLA will be used). Devices:\n",
      "2021-12-13 18:07:15.527097: I tensorflow/compiler/xla/service/service.cc:176]   StreamExecutor device (0): Host, Default Version\n",
      "2021-12-13 18:07:15.675564: I tensorflow/stream_executor/cuda/cuda_gpu_executor.cc:982] successful NUMA node read from SysFS had negative value (-1), but there must be at least one NUMA node, so returning NUMA node zero\n",
      "2021-12-13 18:07:15.697534: I tensorflow/stream_executor/cuda/cuda_gpu_executor.cc:982] successful NUMA node read from SysFS had negative value (-1), but there must be at least one NUMA node, so returning NUMA node zero\n",
      "2021-12-13 18:07:15.698866: I tensorflow/compiler/xla/service/service.cc:168] XLA service 0x557dcd26ca40 initialized for platform CUDA (this does not guarantee that XLA will be used). Devices:\n",
      "2021-12-13 18:07:15.698892: I tensorflow/compiler/xla/service/service.cc:176]   StreamExecutor device (0): NVIDIA GeForce GTX 1080, Compute Capability 6.1\n",
      "2021-12-13 18:07:15.698900: I tensorflow/compiler/xla/service/service.cc:176]   StreamExecutor device (1): NVIDIA GeForce GTX 1080, Compute Capability 6.1\n",
      "2021-12-13 18:07:15.704446: I tensorflow/stream_executor/cuda/cuda_gpu_executor.cc:982] successful NUMA node read from SysFS had negative value (-1), but there must be at least one NUMA node, so returning NUMA node zero\n",
      "2021-12-13 18:07:15.705386: I tensorflow/core/common_runtime/gpu/gpu_device.cc:1716] Found device 0 with properties: \n",
      "pciBusID: 0000:0a:00.0 name: NVIDIA GeForce GTX 1080 computeCapability: 6.1\n",
      "coreClock: 1.759GHz coreCount: 20 deviceMemorySize: 7.93GiB deviceMemoryBandwidth: 298.32GiB/s\n",
      "2021-12-13 18:07:15.705518: I tensorflow/stream_executor/cuda/cuda_gpu_executor.cc:982] successful NUMA node read from SysFS had negative value (-1), but there must be at least one NUMA node, so returning NUMA node zero\n",
      "2021-12-13 18:07:15.706449: I tensorflow/core/common_runtime/gpu/gpu_device.cc:1716] Found device 1 with properties: \n",
      "pciBusID: 0000:0b:00.0 name: NVIDIA GeForce GTX 1080 computeCapability: 6.1\n",
      "coreClock: 1.759GHz coreCount: 20 deviceMemorySize: 7.93GiB deviceMemoryBandwidth: 298.32GiB/s\n",
      "2021-12-13 18:07:15.706486: I tensorflow/stream_executor/platform/default/dso_loader.cc:48] Successfully opened dynamic library libcudart.so.10.1\n",
      "2021-12-13 18:07:15.706518: I tensorflow/stream_executor/platform/default/dso_loader.cc:48] Successfully opened dynamic library libcublas.so.10\n",
      "2021-12-13 18:07:15.706538: I tensorflow/stream_executor/platform/default/dso_loader.cc:48] Successfully opened dynamic library libcufft.so.10\n",
      "2021-12-13 18:07:15.706558: I tensorflow/stream_executor/platform/default/dso_loader.cc:48] Successfully opened dynamic library libcurand.so.10\n",
      "2021-12-13 18:07:15.706578: I tensorflow/stream_executor/platform/default/dso_loader.cc:48] Successfully opened dynamic library libcusolver.so.10\n",
      "2021-12-13 18:07:15.706597: I tensorflow/stream_executor/platform/default/dso_loader.cc:48] Successfully opened dynamic library libcusparse.so.10\n",
      "2021-12-13 18:07:15.706616: I tensorflow/stream_executor/platform/default/dso_loader.cc:48] Successfully opened dynamic library libcudnn.so.7\n",
      "2021-12-13 18:07:15.706729: I tensorflow/stream_executor/cuda/cuda_gpu_executor.cc:982] successful NUMA node read from SysFS had negative value (-1), but there must be at least one NUMA node, so returning NUMA node zero\n",
      "2021-12-13 18:07:15.707741: I tensorflow/stream_executor/cuda/cuda_gpu_executor.cc:982] successful NUMA node read from SysFS had negative value (-1), but there must be at least one NUMA node, so returning NUMA node zero\n",
      "2021-12-13 18:07:15.708773: I tensorflow/stream_executor/cuda/cuda_gpu_executor.cc:982] successful NUMA node read from SysFS had negative value (-1), but there must be at least one NUMA node, so returning NUMA node zero\n",
      "2021-12-13 18:07:15.709809: I tensorflow/stream_executor/cuda/cuda_gpu_executor.cc:982] successful NUMA node read from SysFS had negative value (-1), but there must be at least one NUMA node, so returning NUMA node zero\n",
      "2021-12-13 18:07:15.710754: I tensorflow/core/common_runtime/gpu/gpu_device.cc:1858] Adding visible gpu devices: 0, 1\n",
      "2021-12-13 18:07:15.710801: I tensorflow/stream_executor/platform/default/dso_loader.cc:48] Successfully opened dynamic library libcudart.so.10.1\n",
      "2021-12-13 18:07:16.303560: I tensorflow/core/common_runtime/gpu/gpu_device.cc:1257] Device interconnect StreamExecutor with strength 1 edge matrix:\n",
      "2021-12-13 18:07:16.303596: I tensorflow/core/common_runtime/gpu/gpu_device.cc:1263]      0 1 \n",
      "2021-12-13 18:07:16.303605: I tensorflow/core/common_runtime/gpu/gpu_device.cc:1276] 0:   N Y \n",
      "2021-12-13 18:07:16.303609: I tensorflow/core/common_runtime/gpu/gpu_device.cc:1276] 1:   Y N \n",
      "2021-12-13 18:07:16.303910: I tensorflow/stream_executor/cuda/cuda_gpu_executor.cc:982] successful NUMA node read from SysFS had negative value (-1), but there must be at least one NUMA node, so returning NUMA node zero\n",
      "2021-12-13 18:07:16.304434: I tensorflow/stream_executor/cuda/cuda_gpu_executor.cc:982] successful NUMA node read from SysFS had negative value (-1), but there must be at least one NUMA node, so returning NUMA node zero\n",
      "2021-12-13 18:07:16.304926: I tensorflow/stream_executor/cuda/cuda_gpu_executor.cc:982] successful NUMA node read from SysFS had negative value (-1), but there must be at least one NUMA node, so returning NUMA node zero\n",
      "2021-12-13 18:07:16.305383: I tensorflow/core/common_runtime/gpu/gpu_device.cc:1402] Created TensorFlow device (/job:localhost/replica:0/task:0/device:GPU:0 with 7412 MB memory) -> physical GPU (device: 0, name: NVIDIA GeForce GTX 1080, pci bus id: 0000:0a:00.0, compute capability: 6.1)\n",
      "2021-12-13 18:07:16.305864: I tensorflow/stream_executor/cuda/cuda_gpu_executor.cc:982] successful NUMA node read from SysFS had negative value (-1), but there must be at least one NUMA node, so returning NUMA node zero\n",
      "2021-12-13 18:07:16.306326: I tensorflow/core/common_runtime/gpu/gpu_device.cc:1402] Created TensorFlow device (/job:localhost/replica:0/task:0/device:GPU:1 with 7422 MB memory) -> physical GPU (device: 1, name: NVIDIA GeForce GTX 1080, pci bus id: 0000:0b:00.0, compute capability: 6.1)\n"
     ]
    },
    {
     "name": "stdout",
     "output_type": "stream",
     "text": [
      "INFO:tensorflow:Reduce to /job:localhost/replica:0/task:0/device:CPU:0 then broadcast to ('/job:localhost/replica:0/task:0/device:CPU:0',).\n",
      "INFO:tensorflow:Reduce to /job:localhost/replica:0/task:0/device:CPU:0 then broadcast to ('/job:localhost/replica:0/task:0/device:CPU:0',).\n",
      "INFO:tensorflow:Reduce to /job:localhost/replica:0/task:0/device:CPU:0 then broadcast to ('/job:localhost/replica:0/task:0/device:CPU:0',).\n",
      "INFO:tensorflow:Reduce to /job:localhost/replica:0/task:0/device:CPU:0 then broadcast to ('/job:localhost/replica:0/task:0/device:CPU:0',).\n",
      "INFO:tensorflow:Reduce to /job:localhost/replica:0/task:0/device:CPU:0 then broadcast to ('/job:localhost/replica:0/task:0/device:CPU:0',).\n",
      "INFO:tensorflow:Reduce to /job:localhost/replica:0/task:0/device:CPU:0 then broadcast to ('/job:localhost/replica:0/task:0/device:CPU:0',).\n"
     ]
    }
   ],
   "source": [
    "strategy = tf.distribute.MirroredStrategy()\n",
    "with strategy.scope():\n",
    "    baseModel = MobileNetV2(weights=\"imagenet\", include_top=False,\n",
    "    input_shape=(128, 128, 3), input_tensor=Input(shape=(128, 128, 3)))\n",
    "\n",
    "    # construct the head of the model that will be placed on top of the\n",
    "    # the base model\n",
    "\n",
    "    headModel = baseModel.output\n",
    "    headModel = AveragePooling2D(pool_size=(4, 4))(headModel)\n",
    "    headModel = Flatten(name=\"flatten\")(headModel)\n",
    "    headModel = Dense(128, activation=\"relu\")(headModel)\n",
    "    headModel = Dropout(0.5)(headModel)\n",
    "    headModel = Dense(32, activation=\"relu\")(headModel)\n",
    "    headModel = Dense(2, activation=\"softmax\")(headModel)\n",
    "\n",
    "    # place the head FC model on top of the base model (this will become\n",
    "    # the actual model we will train)\n",
    "\n",
    "    model = Model(inputs=baseModel.input, outputs=headModel)\n",
    "\n",
    "    # loop over all layers in the base model and freeze them so they will\n",
    "    # *not* be updated during the first training process\n",
    "\n",
    "    baseModel.trainable = False\n",
    "\n",
    "    model.compile(\n",
    "        loss = 'sparse_categorical_crossentropy',  #binary_crossentropy\n",
    "        optimizer = Adam(learning_rate = 1e-5),\n",
    "        metrics = ['acc']\n",
    "                  )"
   ]
  },
  {
   "cell_type": "code",
   "execution_count": null,
   "id": "665b922c-7f9b-4596-831e-f7af447c0de8",
   "metadata": {
    "tags": []
   },
   "outputs": [],
   "source": [
    "model.summary()"
   ]
  },
  {
   "cell_type": "code",
   "execution_count": 7,
   "id": "f512a60a-13de-400b-83c3-f3d78c8194dd",
   "metadata": {},
   "outputs": [],
   "source": [
    "# checkpoint 만들기\n",
    "checkpoint_path = '/root/data/cut_data/cut_mobile_model2/tmp_checkpoint.ckpt'\n",
    "\n",
    "checkpoint = ModelCheckpoint(\n",
    "    filepath=checkpoint_path\n",
    "    ,save_weights_only=True\n",
    "    ,save_best_only=True\n",
    "    ,monitor='acc' # val_loss\n",
    "    ,verbose=1\n",
    ")"
   ]
  },
  {
   "cell_type": "code",
   "execution_count": 18,
   "id": "14690239-1945-4126-9fb5-3692f46aa0fa",
   "metadata": {},
   "outputs": [],
   "source": [
    "model.compile(\n",
    "        loss = 'sparse_categorical_crossentropy',  #binary_crossentropy\n",
    "        optimizer = Adam(learning_rate = 1e-5),\n",
    "        metrics = ['acc']\n",
    "                  )"
   ]
  },
  {
   "cell_type": "code",
   "execution_count": 19,
   "id": "9c15810a-4bd0-4aaf-ba5e-50b3bfcf1b8a",
   "metadata": {
    "collapsed": true,
    "jupyter": {
     "outputs_hidden": true
    },
    "tags": []
   },
   "outputs": [
    {
     "name": "stdout",
     "output_type": "stream",
     "text": [
      "Epoch 1/100\n",
      "2306/2306 [==============================] - ETA: 0s - loss: 0.3464 - acc: 0.8439\n",
      "Epoch 00001: acc did not improve from 0.84896\n",
      "2306/2306 [==============================] - 141s 61ms/step - loss: 0.3464 - acc: 0.8439\n",
      "Epoch 2/100\n",
      "2306/2306 [==============================] - ETA: 0s - loss: 0.3405 - acc: 0.8479\n",
      "Epoch 00002: acc did not improve from 0.84896\n",
      "2306/2306 [==============================] - 142s 61ms/step - loss: 0.3405 - acc: 0.8479\n",
      "Epoch 3/100\n",
      "2305/2306 [============================>.] - ETA: 0s - loss: 0.3434 - acc: 0.8455\n",
      "Epoch 00003: acc did not improve from 0.84896\n",
      "2306/2306 [==============================] - 142s 62ms/step - loss: 0.3434 - acc: 0.8455\n",
      "Epoch 4/100\n",
      "2306/2306 [==============================] - ETA: 0s - loss: 0.3384 - acc: 0.8478\n",
      "Epoch 00004: acc did not improve from 0.84896\n",
      "2306/2306 [==============================] - 141s 61ms/step - loss: 0.3384 - acc: 0.8478\n",
      "Epoch 5/100\n",
      "2306/2306 [==============================] - ETA: 0s - loss: 0.3394 - acc: 0.8484\n",
      "Epoch 00005: acc did not improve from 0.84896\n",
      "2306/2306 [==============================] - 142s 62ms/step - loss: 0.3394 - acc: 0.8484\n",
      "Epoch 6/100\n",
      "2305/2306 [============================>.] - ETA: 0s - loss: 0.3364 - acc: 0.8501\n",
      "Epoch 00006: acc improved from 0.84896 to 0.85013, saving model to /root/data/cut_data/cut_mobile_model2/tmp_checkpoint.ckpt\n",
      "2306/2306 [==============================] - 142s 62ms/step - loss: 0.3364 - acc: 0.8501\n",
      "Epoch 7/100\n",
      "2306/2306 [==============================] - ETA: 0s - loss: 0.3416 - acc: 0.8461\n",
      "Epoch 00007: acc did not improve from 0.85013\n",
      "2306/2306 [==============================] - 142s 62ms/step - loss: 0.3416 - acc: 0.8461\n",
      "Epoch 8/100\n",
      "2306/2306 [==============================] - ETA: 0s - loss: 0.3367 - acc: 0.8492\n",
      "Epoch 00008: acc did not improve from 0.85013\n",
      "2306/2306 [==============================] - 141s 61ms/step - loss: 0.3367 - acc: 0.8492\n",
      "Epoch 9/100\n",
      "2306/2306 [==============================] - ETA: 0s - loss: 0.3370 - acc: 0.8485\n",
      "Epoch 00009: acc did not improve from 0.85013\n",
      "2306/2306 [==============================] - 141s 61ms/step - loss: 0.3370 - acc: 0.8485\n",
      "Epoch 10/100\n",
      "2306/2306 [==============================] - ETA: 0s - loss: 0.3350 - acc: 0.8506\n",
      "Epoch 00010: acc improved from 0.85013 to 0.85064, saving model to /root/data/cut_data/cut_mobile_model2/tmp_checkpoint.ckpt\n",
      "2306/2306 [==============================] - 142s 61ms/step - loss: 0.3350 - acc: 0.8506\n",
      "Epoch 11/100\n",
      "2306/2306 [==============================] - ETA: 0s - loss: 0.3335 - acc: 0.8500\n",
      "Epoch 00011: acc did not improve from 0.85064\n",
      "2306/2306 [==============================] - 142s 61ms/step - loss: 0.3335 - acc: 0.8500\n",
      "Epoch 12/100\n",
      "2306/2306 [==============================] - ETA: 0s - loss: 0.3367 - acc: 0.8491\n",
      "Epoch 00012: acc did not improve from 0.85064\n",
      "2306/2306 [==============================] - 142s 62ms/step - loss: 0.3367 - acc: 0.8491\n",
      "Epoch 13/100\n",
      "2306/2306 [==============================] - ETA: 0s - loss: 0.3345 - acc: 0.8499\n",
      "Epoch 00013: acc did not improve from 0.85064\n",
      "2306/2306 [==============================] - 142s 62ms/step - loss: 0.3345 - acc: 0.8499\n",
      "Epoch 14/100\n",
      "2306/2306 [==============================] - ETA: 0s - loss: 0.3326 - acc: 0.8527\n",
      "Epoch 00014: acc improved from 0.85064 to 0.85270, saving model to /root/data/cut_data/cut_mobile_model2/tmp_checkpoint.ckpt\n",
      "2306/2306 [==============================] - 142s 61ms/step - loss: 0.3326 - acc: 0.8527\n",
      "Epoch 15/100\n",
      "2306/2306 [==============================] - ETA: 0s - loss: 0.3357 - acc: 0.8496\n",
      "Epoch 00015: acc did not improve from 0.85270\n",
      "2306/2306 [==============================] - 142s 62ms/step - loss: 0.3357 - acc: 0.8496\n",
      "Epoch 16/100\n",
      "2306/2306 [==============================] - ETA: 0s - loss: 0.3308 - acc: 0.8540\n",
      "Epoch 00016: acc improved from 0.85270 to 0.85398, saving model to /root/data/cut_data/cut_mobile_model2/tmp_checkpoint.ckpt\n",
      "2306/2306 [==============================] - 142s 62ms/step - loss: 0.3308 - acc: 0.8540\n",
      "Epoch 17/100\n",
      "2306/2306 [==============================] - ETA: 0s - loss: 0.3334 - acc: 0.8508\n",
      "Epoch 00017: acc did not improve from 0.85398\n",
      "2306/2306 [==============================] - 142s 61ms/step - loss: 0.3334 - acc: 0.8508\n",
      "Epoch 18/100\n",
      "2305/2306 [============================>.] - ETA: 0s - loss: 0.3282 - acc: 0.8516\n",
      "Epoch 00018: acc did not improve from 0.85398\n",
      "2306/2306 [==============================] - 142s 61ms/step - loss: 0.3281 - acc: 0.8516\n",
      "Epoch 19/100\n",
      "2306/2306 [==============================] - ETA: 0s - loss: 0.3275 - acc: 0.8561\n",
      "Epoch 00019: acc improved from 0.85398 to 0.85609, saving model to /root/data/cut_data/cut_mobile_model2/tmp_checkpoint.ckpt\n",
      "2306/2306 [==============================] - 142s 61ms/step - loss: 0.3275 - acc: 0.8561\n",
      "Epoch 20/100\n",
      "2306/2306 [==============================] - ETA: 0s - loss: 0.3310 - acc: 0.8540\n",
      "Epoch 00020: acc did not improve from 0.85609\n",
      "2306/2306 [==============================] - 141s 61ms/step - loss: 0.3310 - acc: 0.8540\n",
      "Epoch 21/100\n",
      "2306/2306 [==============================] - ETA: 0s - loss: 0.3333 - acc: 0.8510\n",
      "Epoch 00021: acc did not improve from 0.85609\n",
      "2306/2306 [==============================] - 142s 62ms/step - loss: 0.3333 - acc: 0.8510\n",
      "Epoch 22/100\n",
      "2306/2306 [==============================] - ETA: 0s - loss: 0.3307 - acc: 0.8523\n",
      "Epoch 00022: acc did not improve from 0.85609\n",
      "2306/2306 [==============================] - 142s 61ms/step - loss: 0.3307 - acc: 0.8523\n",
      "Epoch 23/100\n",
      "2306/2306 [==============================] - ETA: 0s - loss: 0.3265 - acc: 0.8542\n",
      "Epoch 00023: acc did not improve from 0.85609\n",
      "2306/2306 [==============================] - 142s 61ms/step - loss: 0.3265 - acc: 0.8542\n",
      "Epoch 24/100\n",
      "2305/2306 [============================>.] - ETA: 0s - loss: 0.3300 - acc: 0.8513\n",
      "Epoch 00024: acc did not improve from 0.85609\n",
      "2306/2306 [==============================] - 141s 61ms/step - loss: 0.3300 - acc: 0.8513\n",
      "Epoch 25/100\n",
      "2306/2306 [==============================] - ETA: 0s - loss: 0.3239 - acc: 0.8564- ETA: 0s - loss: 0.3238 - acc: 0.85\n",
      "Epoch 00025: acc improved from 0.85609 to 0.85642, saving model to /root/data/cut_data/cut_mobile_model2/tmp_checkpoint.ckpt\n",
      "2306/2306 [==============================] - 142s 61ms/step - loss: 0.3239 - acc: 0.8564\n",
      "Epoch 26/100\n",
      "2306/2306 [==============================] - ETA: 0s - loss: 0.3267 - acc: 0.8523\n",
      "Epoch 00026: acc did not improve from 0.85642\n",
      "2306/2306 [==============================] - 141s 61ms/step - loss: 0.3267 - acc: 0.8523\n",
      "Epoch 27/100\n",
      "2306/2306 [==============================] - ETA: 0s - loss: 0.3231 - acc: 0.8558\n",
      "Epoch 00027: acc did not improve from 0.85642\n",
      "2306/2306 [==============================] - 142s 62ms/step - loss: 0.3231 - acc: 0.8558\n",
      "Epoch 28/100\n",
      "2306/2306 [==============================] - ETA: 0s - loss: 0.3265 - acc: 0.8548\n",
      "Epoch 00028: acc did not improve from 0.85642\n",
      "2306/2306 [==============================] - 141s 61ms/step - loss: 0.3265 - acc: 0.8548\n",
      "Epoch 29/100\n",
      "2306/2306 [==============================] - ETA: 0s - loss: 0.3246 - acc: 0.8552\n",
      "Epoch 00029: acc did not improve from 0.85642\n",
      "2306/2306 [==============================] - 141s 61ms/step - loss: 0.3246 - acc: 0.8552\n",
      "Epoch 30/100\n",
      "2306/2306 [==============================] - ETA: 0s - loss: 0.3248 - acc: 0.8559\n",
      "Epoch 00030: acc did not improve from 0.85642\n",
      "2306/2306 [==============================] - 141s 61ms/step - loss: 0.3248 - acc: 0.8559\n",
      "Epoch 31/100\n",
      "2306/2306 [==============================] - ETA: 0s - loss: 0.3219 - acc: 0.8572\n",
      "Epoch 00031: acc improved from 0.85642 to 0.85718, saving model to /root/data/cut_data/cut_mobile_model2/tmp_checkpoint.ckpt\n",
      "2306/2306 [==============================] - 142s 61ms/step - loss: 0.3219 - acc: 0.8572\n",
      "Epoch 32/100\n",
      "2306/2306 [==============================] - ETA: 0s - loss: 0.3236 - acc: 0.8577\n",
      "Epoch 00032: acc improved from 0.85718 to 0.85775, saving model to /root/data/cut_data/cut_mobile_model2/tmp_checkpoint.ckpt\n",
      "2306/2306 [==============================] - 141s 61ms/step - loss: 0.3236 - acc: 0.8577\n",
      "Epoch 33/100\n",
      "2306/2306 [==============================] - ETA: 0s - loss: 0.3237 - acc: 0.8550\n",
      "Epoch 00033: acc did not improve from 0.85775\n",
      "2306/2306 [==============================] - 143s 62ms/step - loss: 0.3237 - acc: 0.8550\n",
      "Epoch 34/100\n",
      "2306/2306 [==============================] - ETA: 0s - loss: 0.3231 - acc: 0.8586\n",
      "Epoch 00034: acc improved from 0.85775 to 0.85856, saving model to /root/data/cut_data/cut_mobile_model2/tmp_checkpoint.ckpt\n",
      "2306/2306 [==============================] - 143s 62ms/step - loss: 0.3231 - acc: 0.8586\n",
      "Epoch 35/100\n",
      "2306/2306 [==============================] - ETA: 0s - loss: 0.3196 - acc: 0.8587\n",
      "Epoch 00035: acc improved from 0.85856 to 0.85872, saving model to /root/data/cut_data/cut_mobile_model2/tmp_checkpoint.ckpt\n",
      "2306/2306 [==============================] - 143s 62ms/step - loss: 0.3196 - acc: 0.8587\n",
      "Epoch 36/100\n",
      "2306/2306 [==============================] - ETA: 0s - loss: 0.3256 - acc: 0.8560\n",
      "Epoch 00036: acc did not improve from 0.85872\n",
      "2306/2306 [==============================] - 142s 62ms/step - loss: 0.3256 - acc: 0.8560\n",
      "Epoch 37/100\n",
      "2306/2306 [==============================] - ETA: 0s - loss: 0.3224 - acc: 0.8557\n",
      "Epoch 00037: acc did not improve from 0.85872\n",
      "2306/2306 [==============================] - 142s 62ms/step - loss: 0.3224 - acc: 0.8557\n",
      "Epoch 38/100\n",
      "2306/2306 [==============================] - ETA: 0s - loss: 0.3218 - acc: 0.8578\n",
      "Epoch 00038: acc did not improve from 0.85872\n",
      "2306/2306 [==============================] - 143s 62ms/step - loss: 0.3218 - acc: 0.8578\n",
      "Epoch 39/100\n",
      "2306/2306 [==============================] - ETA: 0s - loss: 0.3221 - acc: 0.8570\n",
      "Epoch 00039: acc did not improve from 0.85872\n",
      "2306/2306 [==============================] - 143s 62ms/step - loss: 0.3221 - acc: 0.8570\n",
      "Epoch 40/100\n",
      "2306/2306 [==============================] - ETA: 0s - loss: 0.3166 - acc: 0.8569\n",
      "Epoch 00040: acc did not improve from 0.85872\n",
      "2306/2306 [==============================] - 142s 62ms/step - loss: 0.3166 - acc: 0.8569\n",
      "Epoch 41/100\n",
      "2306/2306 [==============================] - ETA: 0s - loss: 0.3174 - acc: 0.8589\n",
      "Epoch 00041: acc improved from 0.85872 to 0.85894, saving model to /root/data/cut_data/cut_mobile_model2/tmp_checkpoint.ckpt\n",
      "2306/2306 [==============================] - 143s 62ms/step - loss: 0.3174 - acc: 0.8589\n",
      "Epoch 42/100\n",
      "2306/2306 [==============================] - ETA: 0s - loss: 0.3193 - acc: 0.8569\n",
      "Epoch 00042: acc did not improve from 0.85894\n",
      "2306/2306 [==============================] - 143s 62ms/step - loss: 0.3193 - acc: 0.8569\n",
      "Epoch 43/100\n",
      "2306/2306 [==============================] - ETA: 0s - loss: 0.3176 - acc: 0.8575\n",
      "Epoch 00043: acc did not improve from 0.85894\n",
      "2306/2306 [==============================] - 142s 62ms/step - loss: 0.3176 - acc: 0.8575\n",
      "Epoch 44/100\n",
      "2306/2306 [==============================] - ETA: 0s - loss: 0.3172 - acc: 0.8593\n",
      "Epoch 00044: acc improved from 0.85894 to 0.85935, saving model to /root/data/cut_data/cut_mobile_model2/tmp_checkpoint.ckpt\n",
      "2306/2306 [==============================] - 143s 62ms/step - loss: 0.3172 - acc: 0.8593\n",
      "Epoch 45/100\n",
      "2306/2306 [==============================] - ETA: 0s - loss: 0.3213 - acc: 0.8580\n",
      "Epoch 00045: acc did not improve from 0.85935\n",
      "2306/2306 [==============================] - 142s 62ms/step - loss: 0.3213 - acc: 0.8580\n",
      "Epoch 46/100\n",
      "2306/2306 [==============================] - ETA: 0s - loss: 0.3166 - acc: 0.8602\n",
      "Epoch 00046: acc improved from 0.85935 to 0.86019, saving model to /root/data/cut_data/cut_mobile_model2/tmp_checkpoint.ckpt\n",
      "2306/2306 [==============================] - 142s 62ms/step - loss: 0.3166 - acc: 0.8602\n",
      "Epoch 47/100\n",
      "2306/2306 [==============================] - ETA: 0s - loss: 0.3208 - acc: 0.8578\n",
      "Epoch 00047: acc did not improve from 0.86019\n",
      "2306/2306 [==============================] - 143s 62ms/step - loss: 0.3208 - acc: 0.8578\n",
      "Epoch 48/100\n",
      "2306/2306 [==============================] - ETA: 0s - loss: 0.3202 - acc: 0.8592\n",
      "Epoch 00048: acc did not improve from 0.86019\n",
      "2306/2306 [==============================] - 142s 62ms/step - loss: 0.3202 - acc: 0.8592\n",
      "Epoch 49/100\n",
      "2306/2306 [==============================] - ETA: 0s - loss: 0.3178 - acc: 0.8589\n",
      "Epoch 00049: acc did not improve from 0.86019\n",
      "2306/2306 [==============================] - 142s 62ms/step - loss: 0.3178 - acc: 0.8589\n",
      "Epoch 50/100\n",
      "2306/2306 [==============================] - ETA: 0s - loss: 0.3155 - acc: 0.8604\n",
      "Epoch 00050: acc improved from 0.86019 to 0.86038, saving model to /root/data/cut_data/cut_mobile_model2/tmp_checkpoint.ckpt\n",
      "2306/2306 [==============================] - 143s 62ms/step - loss: 0.3155 - acc: 0.8604\n",
      "Epoch 51/100\n",
      "2306/2306 [==============================] - ETA: 0s - loss: 0.3190 - acc: 0.8592\n",
      "Epoch 00051: acc did not improve from 0.86038\n",
      "2306/2306 [==============================] - 142s 62ms/step - loss: 0.3190 - acc: 0.8592\n",
      "Epoch 52/100\n",
      "2306/2306 [==============================] - ETA: 0s - loss: 0.3161 - acc: 0.8587\n",
      "Epoch 00052: acc did not improve from 0.86038\n",
      "2306/2306 [==============================] - 142s 62ms/step - loss: 0.3161 - acc: 0.8587\n",
      "Epoch 53/100\n",
      "2306/2306 [==============================] - ETA: 0s - loss: 0.3138 - acc: 0.8611\n",
      "Epoch 00053: acc improved from 0.86038 to 0.86108, saving model to /root/data/cut_data/cut_mobile_model2/tmp_checkpoint.ckpt\n",
      "2306/2306 [==============================] - 142s 62ms/step - loss: 0.3138 - acc: 0.8611\n",
      "Epoch 54/100\n",
      "2305/2306 [============================>.] - ETA: 0s - loss: 0.3129 - acc: 0.8621\n",
      "Epoch 00054: acc improved from 0.86108 to 0.86208, saving model to /root/data/cut_data/cut_mobile_model2/tmp_checkpoint.ckpt\n",
      "2306/2306 [==============================] - 143s 62ms/step - loss: 0.3129 - acc: 0.8621\n",
      "Epoch 55/100\n",
      "2306/2306 [==============================] - ETA: 0s - loss: 0.3179 - acc: 0.8591\n",
      "Epoch 00055: acc did not improve from 0.86208\n",
      "2306/2306 [==============================] - 143s 62ms/step - loss: 0.3179 - acc: 0.8591\n",
      "Epoch 56/100\n",
      "2306/2306 [==============================] - ETA: 0s - loss: 0.3176 - acc: 0.8598\n",
      "Epoch 00056: acc did not improve from 0.86208\n",
      "2306/2306 [==============================] - 143s 62ms/step - loss: 0.3176 - acc: 0.8598\n",
      "Epoch 57/100\n",
      "2306/2306 [==============================] - ETA: 0s - loss: 0.3157 - acc: 0.8602\n",
      "Epoch 00057: acc did not improve from 0.86208\n",
      "2306/2306 [==============================] - 143s 62ms/step - loss: 0.3157 - acc: 0.8602\n",
      "Epoch 58/100\n",
      "2306/2306 [==============================] - ETA: 0s - loss: 0.3130 - acc: 0.8612\n",
      "Epoch 00058: acc did not improve from 0.86208\n",
      "2306/2306 [==============================] - 142s 62ms/step - loss: 0.3130 - acc: 0.8612\n",
      "Epoch 59/100\n",
      "2306/2306 [==============================] - ETA: 0s - loss: 0.3162 - acc: 0.8597\n",
      "Epoch 00059: acc did not improve from 0.86208\n",
      "2306/2306 [==============================] - 142s 62ms/step - loss: 0.3162 - acc: 0.8597\n",
      "Epoch 60/100\n",
      "2306/2306 [==============================] - ETA: 0s - loss: 0.3177 - acc: 0.8592\n",
      "Epoch 00060: acc did not improve from 0.86208\n",
      "2306/2306 [==============================] - 143s 62ms/step - loss: 0.3177 - acc: 0.8592\n",
      "Epoch 61/100\n",
      "2306/2306 [==============================] - ETA: 0s - loss: 0.3155 - acc: 0.8609\n",
      "Epoch 00061: acc did not improve from 0.86208\n",
      "2306/2306 [==============================] - 142s 62ms/step - loss: 0.3155 - acc: 0.8609\n",
      "Epoch 62/100\n",
      "2306/2306 [==============================] - ETA: 0s - loss: 0.3168 - acc: 0.8600\n",
      "Epoch 00062: acc did not improve from 0.86208\n",
      "2306/2306 [==============================] - 142s 62ms/step - loss: 0.3168 - acc: 0.8600\n",
      "Epoch 63/100\n",
      "2306/2306 [==============================] - ETA: 0s - loss: 0.3135 - acc: 0.8612\n",
      "Epoch 00063: acc did not improve from 0.86208\n",
      "2306/2306 [==============================] - 142s 61ms/step - loss: 0.3135 - acc: 0.8612\n",
      "Epoch 64/100\n",
      "2306/2306 [==============================] - ETA: 0s - loss: 0.3127 - acc: 0.8600\n",
      "Epoch 00064: acc did not improve from 0.86208\n",
      "2306/2306 [==============================] - 142s 62ms/step - loss: 0.3127 - acc: 0.8600\n",
      "Epoch 65/100\n",
      "2306/2306 [==============================] - ETA: 0s - loss: 0.3138 - acc: 0.8606\n",
      "Epoch 00065: acc did not improve from 0.86208\n",
      "2306/2306 [==============================] - 143s 62ms/step - loss: 0.3138 - acc: 0.8606\n",
      "Epoch 66/100\n",
      "2306/2306 [==============================] - ETA: 0s - loss: 0.3141 - acc: 0.8616\n",
      "Epoch 00066: acc did not improve from 0.86208\n",
      "2306/2306 [==============================] - 143s 62ms/step - loss: 0.3141 - acc: 0.8616\n",
      "Epoch 67/100\n",
      "2306/2306 [==============================] - ETA: 0s - loss: 0.3125 - acc: 0.8615\n",
      "Epoch 00067: acc did not improve from 0.86208\n",
      "2306/2306 [==============================] - 142s 62ms/step - loss: 0.3125 - acc: 0.8615\n",
      "Epoch 68/100\n",
      "2306/2306 [==============================] - ETA: 0s - loss: 0.3109 - acc: 0.8622\n",
      "Epoch 00068: acc improved from 0.86208 to 0.86225, saving model to /root/data/cut_data/cut_mobile_model2/tmp_checkpoint.ckpt\n",
      "2306/2306 [==============================] - 142s 62ms/step - loss: 0.3109 - acc: 0.8622\n",
      "Epoch 69/100\n",
      "2305/2306 [============================>.] - ETA: 0s - loss: 0.3147 - acc: 0.8597\n",
      "Epoch 00069: acc did not improve from 0.86225\n",
      "2306/2306 [==============================] - 143s 62ms/step - loss: 0.3147 - acc: 0.8597\n",
      "Epoch 70/100\n",
      "2305/2306 [============================>.] - ETA: 0s - loss: 0.3154 - acc: 0.8611\n",
      "Epoch 00070: acc did not improve from 0.86225\n",
      "2306/2306 [==============================] - 143s 62ms/step - loss: 0.3155 - acc: 0.8611\n",
      "Epoch 71/100\n",
      "2306/2306 [==============================] - ETA: 0s - loss: 0.3105 - acc: 0.8622\n",
      "Epoch 00071: acc did not improve from 0.86225\n",
      "2306/2306 [==============================] - 142s 62ms/step - loss: 0.3105 - acc: 0.8622\n",
      "Epoch 72/100\n",
      "2306/2306 [==============================] - ETA: 0s - loss: 0.3101 - acc: 0.8621\n",
      "Epoch 00072: acc did not improve from 0.86225\n",
      "2306/2306 [==============================] - 142s 62ms/step - loss: 0.3101 - acc: 0.8621\n",
      "Epoch 73/100\n",
      "2306/2306 [==============================] - ETA: 0s - loss: 0.3099 - acc: 0.8616\n",
      "Epoch 00073: acc did not improve from 0.86225\n",
      "2306/2306 [==============================] - 142s 62ms/step - loss: 0.3099 - acc: 0.8616\n",
      "Epoch 74/100\n",
      "2306/2306 [==============================] - ETA: 0s - loss: 0.3102 - acc: 0.8640\n",
      "Epoch 00074: acc improved from 0.86225 to 0.86398, saving model to /root/data/cut_data/cut_mobile_model2/tmp_checkpoint.ckpt\n",
      "2306/2306 [==============================] - 143s 62ms/step - loss: 0.3102 - acc: 0.8640\n",
      "Epoch 75/100\n",
      "2306/2306 [==============================] - ETA: 0s - loss: 0.3094 - acc: 0.8635\n",
      "Epoch 00075: acc did not improve from 0.86398\n",
      "2306/2306 [==============================] - 142s 62ms/step - loss: 0.3094 - acc: 0.8635\n",
      "Epoch 76/100\n",
      "2306/2306 [==============================] - ETA: 0s - loss: 0.3109 - acc: 0.8633\n",
      "Epoch 00076: acc did not improve from 0.86398\n",
      "2306/2306 [==============================] - 142s 62ms/step - loss: 0.3109 - acc: 0.8633\n",
      "Epoch 77/100\n",
      "2306/2306 [==============================] - ETA: 0s - loss: 0.3078 - acc: 0.8635\n",
      "Epoch 00077: acc did not improve from 0.86398\n",
      "2306/2306 [==============================] - 142s 62ms/step - loss: 0.3078 - acc: 0.8635\n",
      "Epoch 78/100\n",
      "2306/2306 [==============================] - ETA: 0s - loss: 0.3118 - acc: 0.8616\n",
      "Epoch 00078: acc did not improve from 0.86398\n",
      "2306/2306 [==============================] - 142s 62ms/step - loss: 0.3118 - acc: 0.8616\n",
      "Epoch 79/100\n",
      "2306/2306 [==============================] - ETA: 0s - loss: 0.3087 - acc: 0.8641\n",
      "Epoch 00079: acc improved from 0.86398 to 0.86412, saving model to /root/data/cut_data/cut_mobile_model2/tmp_checkpoint.ckpt\n",
      "2306/2306 [==============================] - 142s 62ms/step - loss: 0.3087 - acc: 0.8641\n",
      "Epoch 80/100\n",
      "2306/2306 [==============================] - ETA: 0s - loss: 0.3101 - acc: 0.8656\n",
      "Epoch 00080: acc improved from 0.86412 to 0.86564, saving model to /root/data/cut_data/cut_mobile_model2/tmp_checkpoint.ckpt\n",
      "2306/2306 [==============================] - 142s 62ms/step - loss: 0.3101 - acc: 0.8656\n",
      "Epoch 81/100\n",
      "2306/2306 [==============================] - ETA: 0s - loss: 0.3108 - acc: 0.8631\n",
      "Epoch 00081: acc did not improve from 0.86564\n",
      "2306/2306 [==============================] - 142s 62ms/step - loss: 0.3108 - acc: 0.8631\n",
      "Epoch 82/100\n",
      "2306/2306 [==============================] - ETA: 0s - loss: 0.3087 - acc: 0.8639\n",
      "Epoch 00082: acc did not improve from 0.86564\n",
      "2306/2306 [==============================] - 142s 62ms/step - loss: 0.3087 - acc: 0.8639\n",
      "Epoch 83/100\n",
      "2306/2306 [==============================] - ETA: 0s - loss: 0.3105 - acc: 0.8639\n",
      "Epoch 00083: acc did not improve from 0.86564\n",
      "2306/2306 [==============================] - 142s 62ms/step - loss: 0.3105 - acc: 0.8639\n",
      "Epoch 84/100\n",
      "2306/2306 [==============================] - ETA: 0s - loss: 0.3105 - acc: 0.8636\n",
      "Epoch 00084: acc did not improve from 0.86564\n",
      "2306/2306 [==============================] - 142s 62ms/step - loss: 0.3105 - acc: 0.8636\n",
      "Epoch 85/100\n",
      "2306/2306 [==============================] - ETA: 0s - loss: 0.3059 - acc: 0.8666\n",
      "Epoch 00085: acc improved from 0.86564 to 0.86659, saving model to /root/data/cut_data/cut_mobile_model2/tmp_checkpoint.ckpt\n",
      "2306/2306 [==============================] - 142s 62ms/step - loss: 0.3059 - acc: 0.8666\n",
      "Epoch 86/100\n",
      "2306/2306 [==============================] - ETA: 0s - loss: 0.3078 - acc: 0.8633\n",
      "Epoch 00086: acc did not improve from 0.86659\n",
      "2306/2306 [==============================] - 142s 62ms/step - loss: 0.3078 - acc: 0.8633\n",
      "Epoch 87/100\n",
      "2306/2306 [==============================] - ETA: 0s - loss: 0.3078 - acc: 0.8635\n",
      "Epoch 00087: acc did not improve from 0.86659\n",
      "2306/2306 [==============================] - 142s 62ms/step - loss: 0.3078 - acc: 0.8635\n",
      "Epoch 88/100\n",
      "2306/2306 [==============================] - ETA: 0s - loss: 0.3081 - acc: 0.8631\n",
      "Epoch 00088: acc did not improve from 0.86659\n",
      "2306/2306 [==============================] - 142s 62ms/step - loss: 0.3081 - acc: 0.8631\n",
      "Epoch 89/100\n",
      "2306/2306 [==============================] - ETA: 0s - loss: 0.3045 - acc: 0.8657\n",
      "Epoch 00089: acc did not improve from 0.86659\n",
      "2306/2306 [==============================] - 142s 62ms/step - loss: 0.3045 - acc: 0.8657\n",
      "Epoch 90/100\n",
      "2306/2306 [==============================] - ETA: 0s - loss: 0.3040 - acc: 0.8665\n",
      "Epoch 00090: acc did not improve from 0.86659\n",
      "2306/2306 [==============================] - 142s 62ms/step - loss: 0.3040 - acc: 0.8665\n",
      "Epoch 91/100\n",
      "2306/2306 [==============================] - ETA: 0s - loss: 0.3089 - acc: 0.8631\n",
      "Epoch 00091: acc did not improve from 0.86659\n",
      "2306/2306 [==============================] - 142s 62ms/step - loss: 0.3089 - acc: 0.8631\n",
      "Epoch 92/100\n",
      "2306/2306 [==============================] - ETA: 0s - loss: 0.3057 - acc: 0.8670\n",
      "Epoch 00092: acc improved from 0.86659 to 0.86699, saving model to /root/data/cut_data/cut_mobile_model2/tmp_checkpoint.ckpt\n",
      "2306/2306 [==============================] - 142s 62ms/step - loss: 0.3057 - acc: 0.8670\n",
      "Epoch 93/100\n",
      "2306/2306 [==============================] - ETA: 0s - loss: 0.3082 - acc: 0.8650\n",
      "Epoch 00093: acc did not improve from 0.86699\n",
      "2306/2306 [==============================] - 142s 62ms/step - loss: 0.3082 - acc: 0.8650\n",
      "Epoch 94/100\n",
      "2306/2306 [==============================] - ETA: 0s - loss: 0.3053 - acc: 0.8639\n",
      "Epoch 00094: acc did not improve from 0.86699\n",
      "2306/2306 [==============================] - 142s 62ms/step - loss: 0.3053 - acc: 0.8639\n",
      "Epoch 95/100\n",
      "2306/2306 [==============================] - ETA: 0s - loss: 0.3096 - acc: 0.8621\n",
      "Epoch 00095: acc did not improve from 0.86699\n",
      "2306/2306 [==============================] - 142s 61ms/step - loss: 0.3096 - acc: 0.8621\n",
      "Epoch 96/100\n",
      "2306/2306 [==============================] - ETA: 0s - loss: 0.3065 - acc: 0.8671\n",
      "Epoch 00096: acc improved from 0.86699 to 0.86713, saving model to /root/data/cut_data/cut_mobile_model2/tmp_checkpoint.ckpt\n",
      "2306/2306 [==============================] - 142s 62ms/step - loss: 0.3065 - acc: 0.8671\n",
      "Epoch 97/100\n",
      "2306/2306 [==============================] - ETA: 0s - loss: 0.3053 - acc: 0.8651\n",
      "Epoch 00097: acc did not improve from 0.86713\n",
      "2306/2306 [==============================] - 142s 62ms/step - loss: 0.3053 - acc: 0.8651\n",
      "Epoch 98/100\n",
      "2306/2306 [==============================] - ETA: 0s - loss: 0.3047 - acc: 0.8638\n",
      "Epoch 00098: acc did not improve from 0.86713\n",
      "2306/2306 [==============================] - 143s 62ms/step - loss: 0.3047 - acc: 0.8638\n",
      "Epoch 99/100\n",
      "2306/2306 [==============================] - ETA: 0s - loss: 0.3018 - acc: 0.8653\n",
      "Epoch 00099: acc did not improve from 0.86713\n",
      "2306/2306 [==============================] - 142s 62ms/step - loss: 0.3018 - acc: 0.8653\n",
      "Epoch 100/100\n",
      "2306/2306 [==============================] - ETA: 0s - loss: 0.3064 - acc: 0.8659\n",
      "Epoch 00100: acc did not improve from 0.86713\n",
      "2306/2306 [==============================] - 142s 62ms/step - loss: 0.3064 - acc: 0.8659\n"
     ]
    }
   ],
   "source": [
    "# 모델 학습\n",
    "hist = model.fit(train_generator, \n",
    "                 epochs = 100, \n",
    "                 batch_size = 16, \n",
    "                 callbacks=[checkpoint])"
   ]
  },
  {
   "cell_type": "code",
   "execution_count": 20,
   "id": "1028f0f0-c3f3-4808-bc96-ea605f6d9c47",
   "metadata": {},
   "outputs": [],
   "source": [
    "model.save('/root/data/model/cut_mobile_model2/mobilenetv2_epoch150.h5')"
   ]
  },
  {
   "cell_type": "code",
   "execution_count": 21,
   "id": "6fdaf5ec-3835-4870-abb2-8a1c5c7a3ab5",
   "metadata": {},
   "outputs": [
    {
     "data": {
      "text/plain": [
       "<tensorflow.python.training.tracking.util.CheckpointLoadStatus at 0x7f79ae96f610>"
      ]
     },
     "execution_count": 21,
     "metadata": {},
     "output_type": "execute_result"
    }
   ],
   "source": [
    "model.load_weights(checkpoint_path)"
   ]
  },
  {
   "cell_type": "code",
   "execution_count": 22,
   "id": "5f01d6fc-ec33-4138-8856-415be19379e7",
   "metadata": {},
   "outputs": [],
   "source": [
    "model.save('/root/data/model/cut_mobile_model2/mobilenetv2_best_acc_epoch150.h5')"
   ]
  },
  {
   "cell_type": "code",
   "execution_count": 23,
   "id": "074e2d65-5052-4651-85f6-1f64d76e600e",
   "metadata": {},
   "outputs": [],
   "source": [
    "# 이미지를 증강하는 ImageGenerator 객체 생성\n",
    "test_datagen = ImageDataGenerator(\n",
    "    rescale = 1/255\n",
    "\t)"
   ]
  },
  {
   "cell_type": "code",
   "execution_count": 27,
   "id": "4f1b36d3-3f6b-420b-ac5d-17bf2257a7ba",
   "metadata": {},
   "outputs": [],
   "source": [
    "TEST_DIR = '/root/data/jun/custom_frame/'"
   ]
  },
  {
   "cell_type": "code",
   "execution_count": 28,
   "id": "2175239a-5f98-411b-ac72-fbc521343a77",
   "metadata": {},
   "outputs": [
    {
     "name": "stdout",
     "output_type": "stream",
     "text": [
      "Found 160673 images belonging to 2 classes.\n"
     ]
    }
   ],
   "source": [
    "test_generator = test_datagen.flow_from_directory(\n",
    "                        TEST_DIR,\n",
    "                        target_size=(IM_HEIGHT, IM_WIDTH),\n",
    "                        batch_size=16,\n",
    "                        class_mode=\"binary\",\n",
    "                        shuffle=True\n",
    "                    )"
   ]
  },
  {
   "cell_type": "code",
   "execution_count": 34,
   "id": "009e7eaf-1207-43c5-b2a1-e3d743ca7c8d",
   "metadata": {},
   "outputs": [],
   "source": [
    "model = tf.keras.models.load_model(\"/root/data/model/cut_mobile_model/mobilenetv2_best_acc1213.h5\")"
   ]
  },
  {
   "cell_type": "code",
   "execution_count": null,
   "id": "65820ba1-4ac3-4e06-b2f2-84cb76a1b307",
   "metadata": {
    "tags": []
   },
   "outputs": [
    {
     "name": "stdout",
     "output_type": "stream",
     "text": [
      " 2860/10043 [=======>......................] - ETA: 51:23 - loss: 0.4737 - acc: 0.7703"
     ]
    }
   ],
   "source": [
    "model.evaluate(test_generator)"
   ]
  },
  {
   "cell_type": "code",
   "execution_count": 24,
   "id": "d0ecc7e2-92de-49d2-ab96-2de944909424",
   "metadata": {},
   "outputs": [
    {
     "name": "stdout",
     "output_type": "stream",
     "text": [
      "INFO:tensorflow:Assets written to: /root/data/model/cut_mobile_model_epoch150/pb/assets\n"
     ]
    },
    {
     "name": "stderr",
     "output_type": "stream",
     "text": [
      "INFO:tensorflow:Assets written to: /root/data/model/cut_mobile_model_epoch150/pb/assets\n"
     ]
    }
   ],
   "source": [
    "from tensorflow import keras\n",
    "model = keras.models.load_model('/root/data/model/cut_mobile_model2/mobilenetv2_best_acc_epoch150.h5', compile=False)\n",
    "\n",
    "export_path = '/root/data/model/cut_mobile_model_epoch150/pb'\n",
    "model.save(export_path, save_format=\"tf\")"
   ]
  },
  {
   "cell_type": "code",
   "execution_count": 25,
   "id": "49645c41-0da1-4d1d-a4a2-34999dd1ff20",
   "metadata": {},
   "outputs": [
    {
     "name": "stderr",
     "output_type": "stream",
     "text": [
      "2021-12-14 02:22:25.211811: I tensorflow/stream_executor/cuda/cuda_gpu_executor.cc:982] successful NUMA node read from SysFS had negative value (-1), but there must be at least one NUMA node, so returning NUMA node zero\n",
      "2021-12-14 02:22:25.212181: I tensorflow/stream_executor/cuda/cuda_gpu_executor.cc:982] successful NUMA node read from SysFS had negative value (-1), but there must be at least one NUMA node, so returning NUMA node zero\n",
      "2021-12-14 02:22:25.212532: I tensorflow/core/grappler/devices.cc:69] Number of eligible GPUs (core count >= 8, compute capability >= 0.0): 2\n",
      "2021-12-14 02:22:25.212628: I tensorflow/core/grappler/clusters/single_machine.cc:356] Starting new session\n",
      "2021-12-14 02:22:25.213024: I tensorflow/stream_executor/cuda/cuda_gpu_executor.cc:982] successful NUMA node read from SysFS had negative value (-1), but there must be at least one NUMA node, so returning NUMA node zero\n",
      "2021-12-14 02:22:25.213262: I tensorflow/core/common_runtime/gpu/gpu_device.cc:1716] Found device 0 with properties: \n",
      "pciBusID: 0000:0a:00.0 name: NVIDIA GeForce GTX 1080 computeCapability: 6.1\n",
      "coreClock: 1.759GHz coreCount: 20 deviceMemorySize: 7.93GiB deviceMemoryBandwidth: 298.32GiB/s\n",
      "2021-12-14 02:22:25.213314: I tensorflow/stream_executor/cuda/cuda_gpu_executor.cc:982] successful NUMA node read from SysFS had negative value (-1), but there must be at least one NUMA node, so returning NUMA node zero\n",
      "2021-12-14 02:22:25.213662: I tensorflow/core/common_runtime/gpu/gpu_device.cc:1716] Found device 1 with properties: \n",
      "pciBusID: 0000:0b:00.0 name: NVIDIA GeForce GTX 1080 computeCapability: 6.1\n",
      "coreClock: 1.759GHz coreCount: 20 deviceMemorySize: 7.93GiB deviceMemoryBandwidth: 298.32GiB/s\n",
      "2021-12-14 02:22:25.213685: I tensorflow/stream_executor/platform/default/dso_loader.cc:48] Successfully opened dynamic library libcudart.so.10.1\n",
      "2021-12-14 02:22:25.213707: I tensorflow/stream_executor/platform/default/dso_loader.cc:48] Successfully opened dynamic library libcublas.so.10\n",
      "2021-12-14 02:22:25.213717: I tensorflow/stream_executor/platform/default/dso_loader.cc:48] Successfully opened dynamic library libcufft.so.10\n",
      "2021-12-14 02:22:25.213725: I tensorflow/stream_executor/platform/default/dso_loader.cc:48] Successfully opened dynamic library libcurand.so.10\n",
      "2021-12-14 02:22:25.213734: I tensorflow/stream_executor/platform/default/dso_loader.cc:48] Successfully opened dynamic library libcusolver.so.10\n",
      "2021-12-14 02:22:25.213742: I tensorflow/stream_executor/platform/default/dso_loader.cc:48] Successfully opened dynamic library libcusparse.so.10\n",
      "2021-12-14 02:22:25.213751: I tensorflow/stream_executor/platform/default/dso_loader.cc:48] Successfully opened dynamic library libcudnn.so.7\n",
      "2021-12-14 02:22:25.213797: I tensorflow/stream_executor/cuda/cuda_gpu_executor.cc:982] successful NUMA node read from SysFS had negative value (-1), but there must be at least one NUMA node, so returning NUMA node zero\n",
      "2021-12-14 02:22:25.214061: I tensorflow/stream_executor/cuda/cuda_gpu_executor.cc:982] successful NUMA node read from SysFS had negative value (-1), but there must be at least one NUMA node, so returning NUMA node zero\n",
      "2021-12-14 02:22:25.214456: I tensorflow/stream_executor/cuda/cuda_gpu_executor.cc:982] successful NUMA node read from SysFS had negative value (-1), but there must be at least one NUMA node, so returning NUMA node zero\n",
      "2021-12-14 02:22:25.214719: I tensorflow/stream_executor/cuda/cuda_gpu_executor.cc:982] successful NUMA node read from SysFS had negative value (-1), but there must be at least one NUMA node, so returning NUMA node zero\n",
      "2021-12-14 02:22:25.215062: I tensorflow/core/common_runtime/gpu/gpu_device.cc:1858] Adding visible gpu devices: 0, 1\n",
      "2021-12-14 02:22:25.215096: I tensorflow/core/common_runtime/gpu/gpu_device.cc:1257] Device interconnect StreamExecutor with strength 1 edge matrix:\n",
      "2021-12-14 02:22:25.215100: I tensorflow/core/common_runtime/gpu/gpu_device.cc:1263]      0 1 \n",
      "2021-12-14 02:22:25.215104: I tensorflow/core/common_runtime/gpu/gpu_device.cc:1276] 0:   N Y \n",
      "2021-12-14 02:22:25.215107: I tensorflow/core/common_runtime/gpu/gpu_device.cc:1276] 1:   Y N \n",
      "2021-12-14 02:22:25.215193: I tensorflow/stream_executor/cuda/cuda_gpu_executor.cc:982] successful NUMA node read from SysFS had negative value (-1), but there must be at least one NUMA node, so returning NUMA node zero\n",
      "2021-12-14 02:22:25.215464: I tensorflow/stream_executor/cuda/cuda_gpu_executor.cc:982] successful NUMA node read from SysFS had negative value (-1), but there must be at least one NUMA node, so returning NUMA node zero\n",
      "2021-12-14 02:22:25.215855: I tensorflow/stream_executor/cuda/cuda_gpu_executor.cc:982] successful NUMA node read from SysFS had negative value (-1), but there must be at least one NUMA node, so returning NUMA node zero\n",
      "2021-12-14 02:22:25.216086: I tensorflow/core/common_runtime/gpu/gpu_device.cc:1402] Created TensorFlow device (/job:localhost/replica:0/task:0/device:GPU:0 with 7412 MB memory) -> physical GPU (device: 0, name: NVIDIA GeForce GTX 1080, pci bus id: 0000:0a:00.0, compute capability: 6.1)\n",
      "2021-12-14 02:22:25.216145: I tensorflow/stream_executor/cuda/cuda_gpu_executor.cc:982] successful NUMA node read from SysFS had negative value (-1), but there must be at least one NUMA node, so returning NUMA node zero\n",
      "2021-12-14 02:22:25.216495: I tensorflow/core/common_runtime/gpu/gpu_device.cc:1402] Created TensorFlow device (/job:localhost/replica:0/task:0/device:GPU:1 with 7422 MB memory) -> physical GPU (device: 1, name: NVIDIA GeForce GTX 1080, pci bus id: 0000:0b:00.0, compute capability: 6.1)\n",
      "2021-12-14 02:22:25.259873: I tensorflow/core/grappler/optimizers/meta_optimizer.cc:816] Optimization results for grappler item: graph_to_optimize\n",
      "2021-12-14 02:22:25.259909: I tensorflow/core/grappler/optimizers/meta_optimizer.cc:818]   function_optimizer: Graph size after: 1010 nodes (741), 985 edges (716), time = 23.981ms.\n",
      "2021-12-14 02:22:25.259913: I tensorflow/core/grappler/optimizers/meta_optimizer.cc:818]   function_optimizer: function_optimizer did nothing. time = 0.567ms.\n",
      "2021-12-14 02:22:25.898726: W tensorflow/compiler/mlir/lite/python/tf_tfl_flatbuffer_helpers.cc:313] Ignored output_format.\n",
      "2021-12-14 02:22:25.898773: W tensorflow/compiler/mlir/lite/python/tf_tfl_flatbuffer_helpers.cc:316] Ignored drop_control_dependency.\n"
     ]
    },
    {
     "data": {
      "text/plain": [
       "9560556"
      ]
     },
     "execution_count": 25,
     "metadata": {},
     "output_type": "execute_result"
    }
   ],
   "source": [
    "import tensorflow as tf\n",
    "\n",
    "saved_model_dir = '/root/data/model/cut_mobile_model_epoch150/pb'\n",
    "converter = tf.lite.TFLiteConverter.from_saved_model(saved_model_dir)\n",
    "converter.target_spec.supported_ops = [tf.lite.OpsSet.TFLITE_BUILTINS,\n",
    "                                       tf.lite.OpsSet.SELECT_TF_OPS]\n",
    "tflite_model = converter.convert()\n",
    "open('/root/data/model/cut_mobile_model_epoch150/tf/converted_model.tflite', 'wb').write(tflite_model)"
   ]
  },
  {
   "cell_type": "markdown",
   "id": "ef7afaf1-7292-42da-8da5-0394a8375983",
   "metadata": {},
   "source": [
    "## 학습과load_weights화"
   ]
  },
  {
   "cell_type": "code",
   "execution_count": 18,
   "id": "e3292b73-5470-43c9-8108-204dd720c5f9",
   "metadata": {},
   "outputs": [
    {
     "data": {
      "image/png": "[encoded data removed]",
      "text/plain": [
       "<Figure size 432x288 with 2 Axes>"
      ]
     },
     "metadata": {
      "needs_background": "light"
     },
     "output_type": "display_data"
    }
   ],
   "source": [
    "# 학습과정 표시\n",
    "fig, loss_ax = plt.subplots()\n",
    "\n",
    "acc_ax = loss_ax.twinx()\n",
    "\n",
    "loss_ax.plot(hist.history['loss'], 'y', label='train loss')\n",
    "# loss_ax.plot(hist.history['val_loss'], 'r', label='val loss')\n",
    "\n",
    "acc_ax.plot(hist.history['acc'], 'b', label='train acc')\n",
    "# acc_ax.plot(hist.history['val_acc'], 'g', label='val acc')\n",
    "\n",
    "loss_ax.set_xlabel('epoch')\n",
    "loss_ax.set_ylabel('loss')\n",
    "acc_ax.set_ylabel('accuray')\n",
    "\n",
    "loss_ax.legend(loc='upper left')\n",
    "acc_ax.legend(loc='lower left')\n",
    "\n",
    "plt.show()"
   ]
  },
  {
   "cell_type": "code",
   "execution_count": 17,
   "id": "807bc237-a9a5-467e-8b20-72754319b8f1",
   "metadata": {},
   "outputs": [
    {
     "data": {
      "image/png": "[encoded data removed]",
      "text/plain": [
       "<Figure size 648x72 with 2 Axes>"
      ]
     },
     "metadata": {
      "needs_background": "light"
     },
     "output_type": "display_data"
    }
   ],
   "source": [
    "import matplotlib.pyplot as plt\n",
    "\n",
    "def show_graph(history_dict):\n",
    "    accuracy = history_dict['acc']\n",
    "    # val_accuracy = history_dict['val_acc']\n",
    "    loss = history_dict['loss']\n",
    "    # val_loss = history_dict['val_loss']\n",
    "\n",
    "    epochs = range(1, len(loss) + 1)\n",
    "    \n",
    "    plt.figure(figsize=(9, 1))\n",
    "    \n",
    "    plt.subplot(121)\n",
    "    plt.subplots_adjust(top=2)\n",
    "    plt.plot(epochs, accuracy, 'ro', label='Training accuracy')\n",
    "    # plt.plot(epochs, val_accuracy, 'r', label='Validation accuracy')\n",
    "    plt.title('Trainging and validation accuracy and loss')\n",
    "    plt.xlabel('Epochs')\n",
    "    plt.ylabel('Accuracy and Loss')\n",
    "\n",
    "    plt.legend(loc='upper center', bbox_to_anchor=(0.5, -0.1),\n",
    "              fancybox=True, shadow=True, ncol=5)\n",
    "#     plt.legend(bbox_to_anchor=(1, -0.1))\n",
    "\n",
    "    plt.subplot(122)\n",
    "    plt.plot(epochs, loss, 'bo', label='Training loss')\n",
    "    # plt.plot(epochs, val_loss, 'b', label='Validation loss')\n",
    "    plt.title('Training and validation loss')\n",
    "    plt.xlabel('Epochs')\n",
    "    plt.ylabel('Loss')\n",
    "    plt.legend(loc='upper center', bbox_to_anchor=(0.5, -0.1),\n",
    "          fancybox=True, shadow=True, ncol=5)\n",
    "#     plt.legend(bbox_to_anchor=(1, 0))\n",
    "\n",
    "    plt.show()\n",
    "show_graph(hist.history)"
   ]
  },
  {
   "cell_type": "code",
   "execution_count": null,
   "id": "f0533d7b-7ac2-4536-986c-42d35fa0a6cc",
   "metadata": {},
   "outputs": [],
   "source": [
    "X_test[0].shape"
   ]
  },
  {
   "cell_type": "code",
   "execution_count": null,
   "id": "1e845803-7ba3-445e-966e-cd7b440f7f38",
   "metadata": {
    "tags": []
   },
   "outputs": [],
   "source": [
    "model.evaluate(X_test[:15],y_test[:15])"
   ]
  },
  {
   "cell_type": "code",
   "execution_count": null,
   "id": "028d9be7-eea7-422c-b12c-cde4c1fb86dc",
   "metadata": {
    "tags": []
   },
   "outputs": [],
   "source": [
    "model.predict(X_test[:5])"
   ]
  },
  {
   "cell_type": "code",
   "execution_count": null,
   "id": "bc3295f7-d569-47ea-947c-bb3c28f7cd4a",
   "metadata": {},
   "outputs": [],
   "source": [
    "plt.imshow(X_test[2])\n",
    "print(y_test[2])"
   ]
  },
  {
   "cell_type": "code",
   "execution_count": null,
   "id": "0e17e96f-2423-4c8a-af2d-556e3807f9d5",
   "metadata": {},
   "outputs": [],
   "source": [
    "plt.imshow(X_test[3])\n",
    "print(y_test[3])"
   ]
  },
  {
   "cell_type": "code",
   "execution_count": null,
   "id": "f9f73e42-f9f1-4da0-b010-4aa7cf52d55d",
   "metadata": {},
   "outputs": [],
   "source": [
    "glob('/root/data/jun/yes_frame/*jpg')[0]"
   ]
  },
  {
   "cell_type": "code",
   "execution_count": null,
   "id": "42143af6-fbde-43b0-afe1-2566314eecc9",
   "metadata": {},
   "outputs": [],
   "source": [
    "image = tf.keras.preprocessing.image.load_img('/root/data/jun/yes_frame/33968.jpg', color_mode='rgb', target_size= (128,128))\n",
    "image = np.array(image)\n",
    "image = np.reshape(image, (-1, 128, 128, 3))\n",
    "model.predict(image)"
   ]
  },
  {
   "cell_type": "code",
   "execution_count": null,
   "id": "f21eba8b-aeb2-41b0-bb84-906d0a95f03a",
   "metadata": {},
   "outputs": [],
   "source": [
    "glob('/root/data/jun/no_frame/*jpg')[0]"
   ]
  },
  {
   "cell_type": "code",
   "execution_count": null,
   "id": "9ec30b27-e48d-45eb-bdb1-40b26a2f1df8",
   "metadata": {},
   "outputs": [],
   "source": [
    "image = tf.keras.preprocessing.image.load_img('/root/data/jun/no_frame/55283.jpg', color_mode='rgb', target_size= (128,128))\n",
    "image = np.array(image)\n",
    "image = np.reshape(image, (-1, 128, 128, 3))\n",
    "model.predict(image)"
   ]
  },
  {
   "cell_type": "code",
   "execution_count": null,
   "id": "8397a67d-e0bc-446e-9cad-a14095394a5d",
   "metadata": {},
   "outputs": [],
   "source": [
    "%cd /root/data/cut_data/RetinaFace-tf2"
   ]
  },
  {
   "cell_type": "code",
   "execution_count": null,
   "id": "6253dc0b-fd40-402c-91d4-cb737af8e73f",
   "metadata": {},
   "outputs": [],
   "source": [
    "from src.retinafacetf2.retinaface import RetinaFace\n",
    "import cv2\n",
    "from tqdm import tqdm\n",
    "import os\n",
    "import random\n",
    "\n",
    "detector = RetinaFace(False, 0.4)"
   ]
  },
  {
   "cell_type": "code",
   "execution_count": null,
   "id": "629c8cb9-4058-47b0-9757-616956afe12f",
   "metadata": {},
   "outputs": [],
   "source": [
    "base_path = '/root/data/jun/'\n",
    "\n",
    "for yn in ['no_frame', 'yes_frame']:\n",
    "    i = 0\n",
    "    j = 0\n",
    "    for img_path in tqdm(random.shuffle(glob(base_path + yn + '/' +'*jpg'))):\n",
    "        try:\n",
    "            img = cv2.imread(img_path, cv2.IMREAD_COLOR)\n",
    "            faces, landmarks = detector.detect(img, 0.8)\n",
    "\n",
    "            if yn == 'yes_frame':\n",
    "                for idx in range(faces.shape[0]):\n",
    "                    x ,y , xw, yh = faces[idx][:4]\n",
    "                    x ,y , xw, yh = faces[idx][:4]\n",
    "                    w = xw - x\n",
    "                    h = yh - y\n",
    "                    x_min = max(0, int(x - 0.5 * w))\n",
    "                    y_min = max(0, int(y - 0.6 * h))\n",
    "                    x_max = min(img.shape[1], int(x + 1.5 * w))\n",
    "                    y_max = min(img.shape[0], int(y + 1.3 * h))\n",
    "\n",
    "                    face_img = img[y_min:y_max, x_min:x_max]\n",
    "\n",
    "                    cv2.imwrite(f'/root/data/cut_custom_data/yes/{i}.jpg', face_img)\n",
    "                    i += 1\n",
    "                if i == 1000:\n",
    "                    break\n",
    "            else:\n",
    "                for idx in range(faces.shape[0]):\n",
    "                    x ,y , xw, yh = faces[idx][:4]\n",
    "                    x ,y , xw, yh = faces[idx][:4]\n",
    "                    w = xw - x\n",
    "                    h = yh - y\n",
    "                    x_min = max(0, int(x - 0.5 * w))\n",
    "                    y_min = max(0, int(y - 0.6 * h))\n",
    "                    x_max = min(img.shape[1], int(x + 1.5 * w))\n",
    "                    y_max = min(img.shape[0], int(y + 1.3 * h))\n",
    "\n",
    "                    face_img = img[y_min:y_max, x_min:x_max]\n",
    "\n",
    "                    cv2.imwrite(f'/root/data/cut_custom_data/no/{j}.jpg', face_img)\n",
    "                    j += 1\n",
    "                if j ==1000:\n",
    "                    break\n",
    "        except:\n",
    "            print(img_path)"
   ]
  },
  {
   "cell_type": "code",
   "execution_count": null,
   "id": "d8d60f6a-457d-4e86-a3af-1429f01609fe",
   "metadata": {},
   "outputs": [],
   "source": [
    "model = tf.keras.models.load_model(\"/root/data/model/cut_mobile_model/mobilenetv2_best_val_loss1126.h5\")"
   ]
  },
  {
   "cell_type": "code",
   "execution_count": null,
   "id": "360dc49a-c20c-49da-a110-d8ef75c59226",
   "metadata": {},
   "outputs": [],
   "source": [
    "glob('/root/data/cut_custom_data/yes/*.jpg')[0]"
   ]
  },
  {
   "cell_type": "code",
   "execution_count": null,
   "id": "a7296f0d-e15f-4a0c-b268-9adf6f3b2263",
   "metadata": {},
   "outputs": [],
   "source": [
    "image = tf.keras.preprocessing.image.load_img('/root/data/cut_custom_data/yes/14.jpg', color_mode='rgb', target_size= (128,128))\n",
    "image = np.array(image)\n",
    "image = np.reshape(image, (-1, 128, 128, 3))\n",
    "model.predict(image)"
   ]
  },
  {
   "cell_type": "code",
   "execution_count": null,
   "id": "3416aa35-81f9-46a7-8865-7bbcedcb8ea6",
   "metadata": {},
   "outputs": [],
   "source": [
    "image = tf.keras.preprocessing.image.load_img('/root/data/cut_custom_data/no/14.jpg', color_mode='rgb', target_size= (128,128))\n",
    "image = np.array(image)\n",
    "image = np.reshape(image, (-1, 128, 128, 3))\n",
    "model.predict(image)"
   ]
  },
  {
   "cell_type": "code",
   "execution_count": null,
   "id": "f57c5723-9c97-4c4b-8b80-a12b14c0dc50",
   "metadata": {},
   "outputs": [],
   "source": [
    "score = 0\n",
    "for img in glob('/root/data/cut_custom_data/yes/*.jpg'):\n",
    "    image = tf.keras.preprocessing.image.load_img(img, color_mode='rgb', target_size= (128,128))\n",
    "    image = np.array(image)\n",
    "    image = np.reshape(image, (-1, 128, 128, 3))\n",
    "    pred = model.predict(image)[0]\n",
    "    if pred[1] >= 0.5:\n",
    "        score += 1\n",
    "\n",
    "print(score)"
   ]
  },
  {
   "cell_type": "code",
   "execution_count": null,
   "id": "ad867d29-8b11-44f0-8c0e-9e7be2d896d7",
   "metadata": {},
   "outputs": [],
   "source": [
    "score = 0\n",
    "for img in glob('/root/data/cut_custom_data/no/*.jpg'):\n",
    "    image = tf.keras.preprocessing.image.load_img(img, color_mode='rgb', target_size= (128,128))\n",
    "    image = np.array(image)\n",
    "    image = np.reshape(image, (-1, 128, 128, 3))\n",
    "    pred = model.predict(image)[0]\n",
    "    if pred[0] > 0.5:\n",
    "        score += 1\n",
    "print(score)"
   ]
  },
  {
   "cell_type": "code",
   "execution_count": null,
   "id": "c0db52c8-25e8-4eaa-a3b7-80dfc44bebaf",
   "metadata": {},
   "outputs": [],
   "source": []
  }
 ],
 "metadata": {
  "kernelspec": {
   "display_name": "gpu_env",
   "language": "python",
   "name": "gpu_env"
  },
  "language_info": {
   "codemirror_mode": {
    "name": "ipython",
    "version": 3
   },
   "file_extension": ".py",
   "mimetype": "text/x-python",
   "name": "python",
   "nbconvert_exporter": "python",
   "pygments_lexer": "ipython3",
   "version": "3.7.11"
  }
 },
 "nbformat": 4,
 "nbformat_minor": 5
}
