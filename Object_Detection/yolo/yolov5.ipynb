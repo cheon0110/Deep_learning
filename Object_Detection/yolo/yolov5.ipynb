{
 "cells": [
  {
   "cell_type": "code",
   "execution_count": 2,
   "id": "804d610d-5baf-4531-bdc0-66cbb5bdfcbe",
   "metadata": {},
   "outputs": [
    {
     "name": "stdout",
     "output_type": "stream",
     "text": [
      "Cloning into 'yolov5'...\n",
      "remote: Enumerating objects: 10191, done.\u001b[K\n",
      "remote: Total 10191 (delta 0), reused 0 (delta 0), pack-reused 10191\u001b[K\n",
      "Receiving objects: 100% (10191/10191), 10.41 MiB | 7.44 MiB/s, done.\n",
      "Resolving deltas: 100% (7067/7067), done.\n"
     ]
    }
   ],
   "source": [
    "!git clone https://github.com/ultralytics/yolov5"
   ]
  },
  {
   "cell_type": "code",
   "execution_count": 3,
   "id": "9fa13e9f-a995-4651-8542-f648c44ceaf5",
   "metadata": {},
   "outputs": [
    {
     "name": "stdout",
     "output_type": "stream",
     "text": [
      "\u001b[33mWARNING: Running pip as the 'root' user can result in broken permissions and conflicting behaviour with the system package manager. It is recommended to use a virtual environment instead: https://pip.pypa.io/warnings/venv\u001b[0m\n"
     ]
    }
   ],
   "source": [
    "!pip install -qr /root/yolov5/requirements.txt"
   ]
  },
  {
   "cell_type": "code",
   "execution_count": 4,
   "id": "16a39fef-ef63-47e0-869b-c5736957e548",
   "metadata": {},
   "outputs": [
    {
     "name": "stdout",
     "output_type": "stream",
     "text": [
      "Setup complete. Using torch 1.10.0+cu102 (Tesla V100-SXM2-16GB)\n"
     ]
    }
   ],
   "source": [
    "import torch\n",
    "import os\n",
    "# from IPython.display import Image, clear_output  # to display images\n",
    "\n",
    "print(f\"Setup complete. Using torch {torch.__version__} ({torch.cuda.get_device_properties(0).name if torch.cuda.is_available() else 'CPU'})\")"
   ]
  },
  {
   "cell_type": "code",
   "execution_count": 1,
   "id": "73e2d53a-de71-4f33-a356-3fc1455751c6",
   "metadata": {},
   "outputs": [],
   "source": [
    "from glob import glob\n",
    "import yaml"
   ]
  },
  {
   "cell_type": "code",
   "execution_count": 6,
   "id": "c6b7d913-0927-4b40-a496-39d42a7a81d4",
   "metadata": {},
   "outputs": [],
   "source": [
    "train_img_list = glob('/root/OIDv4_ToolKit/OID/Dataset/train/Bicycle helmet_Hat_Helmet_Human head/*.jpg')\n",
    "# 리스트를 txt파일로 생성\n",
    "with open('/root/yolov5/data/train.txt', 'w') as f:\n",
    "\tf.write('\\n'.join(train_img_list) + '\\n')\n",
    "    \n",
    "    \n",
    "valid_img_list = glob('/root/OIDv4_ToolKit/OID/Dataset/test/Bicycle helmet_Hat_Helmet_Human head/*.jpg')\n",
    "\n",
    "# 리스트를 txt파일로 생성\n",
    "with open('/root/yolov5/data/val.txt', 'w') as f:\n",
    "\tf.write('\\n'.join(valid_img_list) + '\\n')\n",
    "    \n",
    "\n",
    "    \n",
    "test_img_list = glob('/rootOIDv4_ToolKit/OID/Dataset/validation/Bicycle helmet_Hat_Helmet_Human head/*.jpg')\n",
    "\n",
    "# 리스트를 txt파일로 생성\n",
    "with open('/root/yolov5/data/test.txt', 'w') as f:\n",
    "\tf.write('\\n'.join(test_img_list) + '\\n')"
   ]
  },
  {
   "cell_type": "code",
   "execution_count": null,
   "id": "11ee4f69-822f-477a-a590-ce5a020e5f02",
   "metadata": {},
   "outputs": [],
   "source": [
    "# !python train.py  --batch 64 --data coco.yaml --weights yolov5s.pt --device 0"
   ]
  },
  {
   "cell_type": "code",
   "execution_count": 1,
   "id": "eaa8a21a-92ea-4e63-8876-e71d56be411f",
   "metadata": {},
   "outputs": [
    {
     "name": "stdout",
     "output_type": "stream",
     "text": [
      "/root/yolov5\n"
     ]
    }
   ],
   "source": [
    "%cd /root/yolov5/"
   ]
  },
  {
   "cell_type": "code",
   "execution_count": 5,
   "id": "b18338d1-c4fb-40b9-85d4-e55849f8444b",
   "metadata": {},
   "outputs": [
    {
     "name": "stdout",
     "output_type": "stream",
     "text": [
      "\u001b[34m\u001b[1mtrain: \u001b[0mweights=/root/yolov5/runs/train/Helmet_yolov5s_results6/weights/best.pt, cfg=/root/yolov5/models/yolov5s.yaml, data=/root/yolov5/data/data.yaml, hyp=data/hyps/hyp.scratch.yaml, epochs=500, batch_size=128, imgsz=416, rect=False, resume=False, nosave=False, noval=False, noautoanchor=False, evolve=None, bucket=, cache=None, image_weights=False, device=0, multi_scale=False, single_cls=False, adam=False, sync_bn=False, workers=8, project=runs/train, name=Helmet_yolov5s_results, exist_ok=False, quad=False, linear_lr=False, label_smoothing=0.0, patience=100, freeze=0, save_period=-1, local_rank=-1, entity=None, upload_dataset=False, bbox_interval=-1, artifact_alias=latest\n",
      "\u001b[34m\u001b[1mgithub: \u001b[0m⚠️ YOLOv5 is out of date by 1 commit. Use `git pull` or `git clone https://github.com/ultralytics/yolov5` to update.\n",
      "YOLOv5 🚀 2021-12-12 torch 1.10.0+cu102 CUDA:0 (Tesla V100-SXM2-16GB, 16160MiB)\n",
      "\n",
      "\u001b[34m\u001b[1mhyperparameters: \u001b[0mlr0=0.01, lrf=0.1, momentum=0.937, weight_decay=0.0005, warmup_epochs=3.0, warmup_momentum=0.8, warmup_bias_lr=0.1, box=0.05, cls=0.5, cls_pw=1.0, obj=1.0, obj_pw=1.0, iou_t=0.2, anchor_t=4.0, fl_gamma=0.0, hsv_h=0.015, hsv_s=0.7, hsv_v=0.4, degrees=0.0, translate=0.1, scale=0.5, shear=0.0, perspective=0.0, flipud=0.0, fliplr=0.5, mosaic=1.0, mixup=0.0, copy_paste=0.0\n",
      "\u001b[34m\u001b[1mWeights & Biases: \u001b[0mrun 'pip install wandb' to automatically track and visualize YOLOv5 🚀 runs (RECOMMENDED)\n",
      "\u001b[34m\u001b[1mTensorBoard: \u001b[0mStart with 'tensorboard --logdir runs/train', view at http://localhost:6006/\n",
      "Overriding model.yaml nc=80 with nc=4\n",
      "\n",
      "                 from  n    params  module                                  arguments                     \n",
      "  0                -1  1      3520  models.common.Conv                      [3, 32, 6, 2, 2]              \n",
      "  1                -1  1     18560  models.common.Conv                      [32, 64, 3, 2]                \n",
      "  2                -1  1     18816  models.common.C3                        [64, 64, 1]                   \n",
      "  3                -1  1     73984  models.common.Conv                      [64, 128, 3, 2]               \n",
      "  4                -1  2    115712  models.common.C3                        [128, 128, 2]                 \n",
      "  5                -1  1    295424  models.common.Conv                      [128, 256, 3, 2]              \n",
      "  6                -1  3    625152  models.common.C3                        [256, 256, 3]                 \n",
      "  7                -1  1   1180672  models.common.Conv                      [256, 512, 3, 2]              \n",
      "  8                -1  1   1182720  models.common.C3                        [512, 512, 1]                 \n",
      "  9                -1  1    656896  models.common.SPPF                      [512, 512, 5]                 \n",
      " 10                -1  1    131584  models.common.Conv                      [512, 256, 1, 1]              \n",
      " 11                -1  1         0  torch.nn.modules.upsampling.Upsample    [None, 2, 'nearest']          \n",
      " 12           [-1, 6]  1         0  models.common.Concat                    [1]                           \n",
      " 13                -1  1    361984  models.common.C3                        [512, 256, 1, False]          \n",
      " 14                -1  1     33024  models.common.Conv                      [256, 128, 1, 1]              \n",
      " 15                -1  1         0  torch.nn.modules.upsampling.Upsample    [None, 2, 'nearest']          \n",
      " 16           [-1, 4]  1         0  models.common.Concat                    [1]                           \n",
      " 17                -1  1     90880  models.common.C3                        [256, 128, 1, False]          \n",
      " 18                -1  1    147712  models.common.Conv                      [128, 128, 3, 2]              \n",
      " 19          [-1, 14]  1         0  models.common.Concat                    [1]                           \n",
      " 20                -1  1    296448  models.common.C3                        [256, 256, 1, False]          \n",
      " 21                -1  1    590336  models.common.Conv                      [256, 256, 3, 2]              \n",
      " 22          [-1, 10]  1         0  models.common.Concat                    [1]                           \n",
      " 23                -1  1   1182720  models.common.C3                        [512, 512, 1, False]          \n",
      " 24      [17, 20, 23]  1     24273  models.yolo.Detect                      [4, [[10, 13, 16, 30, 33, 23], [30, 61, 62, 45, 59, 119], [116, 90, 156, 198, 373, 326]], [128, 256, 512]]\n",
      "Model Summary: 270 layers, 7030417 parameters, 7030417 gradients, 15.9 GFLOPs\n",
      "\n",
      "Transferred 348/349 items from /root/yolov5/runs/train/Helmet_yolov5s_results6/weights/best.pt\n",
      "Scaled weight_decay = 0.001\n",
      "\u001b[34m\u001b[1moptimizer:\u001b[0m SGD with parameter groups 57 weight, 60 weight (no decay), 60 bias\n",
      "\u001b[34m\u001b[1mtrain: \u001b[0mScanning '/root/yolov5/data/train.cache' images and labels... 30655 found\u001b[0m\n",
      "\u001b[34m\u001b[1mval: \u001b[0mScanning '/root/yolov5/data/val.cache' images and labels... 10652 found, 0 \u001b[0m\n",
      "Plotting labels to runs/train/Helmet_yolov5s_results7/labels.jpg... \n",
      "\n",
      "\u001b[34m\u001b[1mAutoAnchor: \u001b[0m4.95 anchors/target, 0.994 Best Possible Recall (BPR). Current anchors are a good fit to dataset ✅\n",
      "Image sizes 416 train, 416 val\n",
      "Using 8 dataloader workers\n",
      "Logging results to \u001b[1mruns/train/Helmet_yolov5s_results7\u001b[0m\n",
      "Starting training for 500 epochs...\n",
      "\n",
      "     Epoch   gpu_mem       box       obj       cls    labels  img_size\n",
      "    73/499     10.7G   0.03784   0.02366   0.00886       233       416: 100%|███\n",
      "               Class     Images     Labels          P          R     mAP@.5 mAP@\n",
      "                 all      10652      27302      0.548      0.621      0.504      0.315\n",
      "\n",
      "     Epoch   gpu_mem       box       obj       cls    labels  img_size\n",
      "    74/499     10.7G   0.03804   0.02364  0.009198       350       416: 100%|███\n",
      "               Class     Images     Labels          P          R     mAP@.5 mAP@\n",
      "                 all      10652      27302      0.545      0.622      0.504      0.315\n",
      "\n",
      "     Epoch   gpu_mem       box       obj       cls    labels  img_size\n",
      "    75/499     10.7G   0.03789    0.0236  0.009062       411       416: 100%|███\n",
      "               Class     Images     Labels          P          R     mAP@.5 mAP@\n",
      "                 all      10652      27302      0.561      0.605      0.504      0.315\n",
      "\n",
      "     Epoch   gpu_mem       box       obj       cls    labels  img_size\n",
      "    76/499     10.7G   0.03807   0.02379  0.009162       334       416: 100%|███\n",
      "               Class     Images     Labels          P          R     mAP@.5 mAP@\n",
      "                 all      10652      27302       0.56      0.606      0.505      0.315\n",
      "\n",
      "     Epoch   gpu_mem       box       obj       cls    labels  img_size\n",
      "    77/499     10.7G   0.03773    0.0236  0.009198       294       416: 100%|███\n",
      "               Class     Images     Labels          P          R     mAP@.5 mAP@\n",
      "                 all      10652      27302      0.539      0.631      0.503      0.315\n",
      "\n",
      "     Epoch   gpu_mem       box       obj       cls    labels  img_size\n",
      "    78/499     10.7G   0.03783   0.02361  0.008917       254       416: 100%|███\n",
      "               Class     Images     Labels          P          R     mAP@.5 mAP@\n",
      "                 all      10652      27302      0.541      0.631      0.504      0.316\n",
      "\n",
      "     Epoch   gpu_mem       box       obj       cls    labels  img_size\n",
      "    79/499     10.7G   0.03791   0.02367  0.009315       286       416: 100%|███\n",
      "               Class     Images     Labels          P          R     mAP@.5 mAP@\n",
      "                 all      10652      27302       0.54       0.63      0.503      0.315\n",
      "\n",
      "     Epoch   gpu_mem       box       obj       cls    labels  img_size\n",
      "    80/499     10.7G   0.03802   0.02361  0.008879       314       416: 100%|███\n",
      "               Class     Images     Labels          P          R     mAP@.5 mAP@\n",
      "                 all      10652      27302      0.545      0.624      0.504      0.315\n",
      "\n",
      "     Epoch   gpu_mem       box       obj       cls    labels  img_size\n",
      "    81/499     10.7G   0.03789   0.02353  0.008884       310       416: 100%|███\n",
      "               Class     Images     Labels          P          R     mAP@.5 mAP@\n",
      "                 all      10652      27302       0.55      0.618      0.503      0.315\n",
      "\n",
      "     Epoch   gpu_mem       box       obj       cls    labels  img_size\n",
      "    82/499     10.7G   0.03783   0.02369  0.009059       294       416: 100%|███\n",
      "               Class     Images     Labels          P          R     mAP@.5 mAP@\n",
      "                 all      10652      27302      0.539      0.634      0.503      0.315\n",
      "\n",
      "     Epoch   gpu_mem       box       obj       cls    labels  img_size\n",
      "    83/499     10.7G   0.03778   0.02355  0.009203       374       416: 100%|███\n",
      "               Class     Images     Labels          P          R     mAP@.5 mAP@\n",
      "                 all      10652      27302      0.543      0.629      0.503      0.315\n",
      "\n",
      "     Epoch   gpu_mem       box       obj       cls    labels  img_size\n",
      "    84/499     10.7G   0.03801   0.02365  0.009226       354       416: 100%|███\n",
      "               Class     Images     Labels          P          R     mAP@.5 mAP@\n",
      "                 all      10652      27302      0.559      0.608      0.503      0.315\n",
      "\n",
      "     Epoch   gpu_mem       box       obj       cls    labels  img_size\n",
      "    85/499     10.7G   0.03789    0.0236  0.009157       372       416: 100%|███\n",
      "               Class     Images     Labels          P          R     mAP@.5 mAP@\n",
      "                 all      10652      27302      0.547      0.625      0.504      0.315\n",
      "\n",
      "     Epoch   gpu_mem       box       obj       cls    labels  img_size\n",
      "    86/499     10.7G   0.03779    0.0237   0.00909       313       416: 100%|███\n",
      "               Class     Images     Labels          P          R     mAP@.5 mAP@\n",
      "                 all      10652      27302      0.549      0.623      0.503      0.315\n",
      "\n",
      "     Epoch   gpu_mem       box       obj       cls    labels  img_size\n",
      "    87/499     10.7G   0.03796   0.02365  0.009163       288       416: 100%|███\n",
      "               Class     Images     Labels          P          R     mAP@.5 mAP@\n",
      "                 all      10652      27302      0.562      0.605      0.504      0.315\n",
      "\n",
      "     Epoch   gpu_mem       box       obj       cls    labels  img_size\n",
      "    88/499     10.7G   0.03787    0.0236  0.009061       322       416: 100%|███\n",
      "               Class     Images     Labels          P          R     mAP@.5 mAP@\n",
      "                 all      10652      27302      0.546      0.624      0.503      0.315\n",
      "\n",
      "     Epoch   gpu_mem       box       obj       cls    labels  img_size\n",
      "    89/499     10.7G   0.03697   0.02268  0.009365       591       416:   5%|▌  ^C\n",
      "    89/499     10.7G   0.03697   0.02268  0.009365       591       416:   5%|▌  \n",
      "Traceback (most recent call last):\n",
      "  File \"train.py\", line 626, in <module>\n",
      "    main(opt)\n",
      "  File \"train.py\", line 523, in main\n",
      "    train(opt.hyp, opt, device, callbacks)\n",
      "  File \"train.py\", line 331, in train\n",
      "    scaler.step(optimizer)  # optimizer.step\n",
      "  File \"/root/anaconda3/envs/yolov5/lib/python3.8/site-packages/torch/cuda/amp/grad_scaler.py\", line 338, in step\n",
      "    retval = self._maybe_opt_step(optimizer, optimizer_state, *args, **kwargs)\n",
      "  File \"/root/anaconda3/envs/yolov5/lib/python3.8/site-packages/torch/cuda/amp/grad_scaler.py\", line 284, in _maybe_opt_step\n",
      "    if not sum(v.item() for v in optimizer_state[\"found_inf_per_device\"].values()):\n",
      "  File \"/root/anaconda3/envs/yolov5/lib/python3.8/site-packages/torch/cuda/amp/grad_scaler.py\", line 284, in <genexpr>\n",
      "    if not sum(v.item() for v in optimizer_state[\"found_inf_per_device\"].values()):\n",
      "KeyboardInterrupt\n"
     ]
    }
   ],
   "source": [
    "!python train.py\\\n",
    "  --img 640\\\n",
    "  --batch 128 \\\n",
    "  --epochs 500 \\\n",
    "  --data /root/yolov5/data/data.yaml \\\n",
    "  --cfg /root/yolov5/models/yolov5s.yaml \\\n",
    "  --weights /root/yolov5/runs/train/Helmet_yolov5s_results6/weights/best.pt \\\n",
    "  --name Helmet_yolov5s_results \\\n",
    "--device 0"
   ]
  }
 ],
 "metadata": {
  "kernelspec": {
   "display_name": "yolov5",
   "language": "python",
   "name": "yolov5"
  },
  "language_info": {
   "codemirror_mode": {
    "name": "ipython",
    "version": 3
   },
   "file_extension": ".py",
   "mimetype": "text/x-python",
   "name": "python",
   "nbconvert_exporter": "python",
   "pygments_lexer": "ipython3",
   "version": "3.8.0"
  }
 },
 "nbformat": 4,
 "nbformat_minor": 5
}
